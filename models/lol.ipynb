{
  "cells": [
    {
      "cell_type": "code",
      "execution_count": 276,
      "metadata": {},
      "outputs": [
        {
          "name": "stdout",
          "output_type": "stream",
          "text": [
            "Requirement already satisfied: torch in c:\\users\\lisit\\appdata\\local\\programs\\python\\python311\\lib\\site-packages (2.3.1)\n",
            "Requirement already satisfied: filelock in c:\\users\\lisit\\appdata\\local\\programs\\python\\python311\\lib\\site-packages (from torch) (3.13.1)\n",
            "Requirement already satisfied: typing-extensions>=4.8.0 in c:\\users\\lisit\\appdata\\local\\programs\\python\\python311\\lib\\site-packages (from torch) (4.9.0)\n",
            "Requirement already satisfied: sympy in c:\\users\\lisit\\appdata\\local\\programs\\python\\python311\\lib\\site-packages (from torch) (1.12)\n",
            "Requirement already satisfied: networkx in c:\\users\\lisit\\appdata\\local\\programs\\python\\python311\\lib\\site-packages (from torch) (3.2.1)\n",
            "Requirement already satisfied: jinja2 in c:\\users\\lisit\\appdata\\local\\programs\\python\\python311\\lib\\site-packages (from torch) (3.1.2)\n",
            "Requirement already satisfied: fsspec in c:\\users\\lisit\\appdata\\local\\programs\\python\\python311\\lib\\site-packages (from torch) (2024.2.0)\n",
            "Requirement already satisfied: mkl<=2021.4.0,>=2021.1.1 in c:\\users\\lisit\\appdata\\local\\programs\\python\\python311\\lib\\site-packages (from torch) (2021.4.0)\n",
            "Requirement already satisfied: intel-openmp==2021.* in c:\\users\\lisit\\appdata\\local\\programs\\python\\python311\\lib\\site-packages (from mkl<=2021.4.0,>=2021.1.1->torch) (2021.4.0)\n",
            "Requirement already satisfied: tbb==2021.* in c:\\users\\lisit\\appdata\\local\\programs\\python\\python311\\lib\\site-packages (from mkl<=2021.4.0,>=2021.1.1->torch) (2021.13.0)\n",
            "Requirement already satisfied: MarkupSafe>=2.0 in c:\\users\\lisit\\appdata\\local\\programs\\python\\python311\\lib\\site-packages (from jinja2->torch) (2.1.3)\n",
            "Requirement already satisfied: mpmath>=0.19 in c:\\users\\lisit\\appdata\\local\\programs\\python\\python311\\lib\\site-packages (from sympy->torch) (1.3.0)\n",
            "Note: you may need to restart the kernel to use updated packages.\n"
          ]
        },
        {
          "name": "stderr",
          "output_type": "stream",
          "text": [
            "WARNING: Skipping c:\\Users\\lisit\\AppData\\Local\\Programs\\Python\\Python311\\Lib\\site-packages\\numpy-1.24.3.dist-info due to invalid metadata entry 'name'\n",
            "WARNING: Skipping c:\\Users\\lisit\\AppData\\Local\\Programs\\Python\\Python311\\Lib\\site-packages\\numpy-1.24.3.dist-info due to invalid metadata entry 'name'\n",
            "WARNING: Skipping c:\\Users\\lisit\\AppData\\Local\\Programs\\Python\\Python311\\Lib\\site-packages\\numpy-1.24.3.dist-info due to invalid metadata entry 'name'\n",
            "WARNING: Skipping c:\\Users\\lisit\\AppData\\Local\\Programs\\Python\\Python311\\Lib\\site-packages\\numpy-1.24.3.dist-info due to invalid metadata entry 'name'\n",
            "WARNING: Skipping c:\\Users\\lisit\\AppData\\Local\\Programs\\Python\\Python311\\Lib\\site-packages\\numpy-1.24.3.dist-info due to invalid metadata entry 'name'\n",
            "WARNING: Skipping c:\\Users\\lisit\\AppData\\Local\\Programs\\Python\\Python311\\Lib\\site-packages\\numpy-1.24.3.dist-info due to invalid metadata entry 'name'\n",
            "\n",
            "[notice] A new release of pip available: 22.3.1 -> 24.1\n",
            "[notice] To update, run: python.exe -m pip install --upgrade pip\n"
          ]
        }
      ],
      "source": [
        "pip install torch"
      ]
    },
    {
      "cell_type": "code",
      "execution_count": 277,
      "metadata": {
        "id": "Ern2ZiHNW3mo"
      },
      "outputs": [],
      "source": [
        "import pandas as pd\n",
        "import numpy as np\n",
        "from sklearn.preprocessing import StandardScaler\n",
        "from sklearn.model_selection import train_test_split\n",
        "import torch\n",
        "from torch.utils.data import DataLoader, TensorDataset"
      ]
    },
    {
      "cell_type": "code",
      "execution_count": 278,
      "metadata": {
        "colab": {
          "base_uri": "https://localhost:8080/"
        },
        "id": "N0WYvTHBaqk7",
        "outputId": "36e538a3-92a4-4e9b-9dcd-263718447e20"
      },
      "outputs": [],
      "source": [
        "# from google.colab import drive\n",
        "# drive.mount(\"/content/drive\", force_remount=True)\n",
        "# cd \"/content/drive/MyDrive/Predicta/Competition\""
      ]
    },
    {
      "cell_type": "code",
      "execution_count": 279,
      "metadata": {
        "id": "Dk47Zau-W3mq"
      },
      "outputs": [],
      "source": [
        "data = pd.read_csv('new_features_added_filled_nearest_neigb_min.csv')"
      ]
    },
    {
      "cell_type": "code",
      "execution_count": 280,
      "metadata": {
        "colab": {
          "base_uri": "https://localhost:8080/"
        },
        "id": "_Apk-HwBW3mr",
        "outputId": "80b70d65-5c9e-4d24-ed12-86f7fdfd77cd"
      },
      "outputs": [
        {
          "data": {
            "text/plain": [
              "Index(['city_id', 'date', 'avg_temp_c', 'min_temp_c', 'max_temp_c',\n",
              "       'avg_wind_dir_deg', 'avg_wind_speed_kmh', 'city', 'day_of_week',\n",
              "       'day_of_year', 'month', 'temp_range'],\n",
              "      dtype='object')"
            ]
          },
          "execution_count": 280,
          "metadata": {},
          "output_type": "execute_result"
        }
      ],
      "source": [
        "data.columns"
      ]
    },
    {
      "cell_type": "code",
      "execution_count": 281,
      "metadata": {
        "id": "EnFMZ5ZLW3ms"
      },
      "outputs": [],
      "source": [
        "# Python\n",
        "selected_columns_to_exclude = ['date', 'city_id',\n",
        "                               'snow_depth_mm', 'day_of_week']\n",
        "features = [col for col in data.columns if col not in selected_columns_to_exclude]\n",
        "\n",
        "target = 'avg_temp_c'\n",
        "\n",
        "# Scaling features\n",
        "scaler = StandardScaler()\n",
        "# Python\n",
        "numerical_features = data.select_dtypes(include=[np.number]).columns.tolist()\n",
        "data[numerical_features] = scaler.fit_transform(data[numerical_features])"
      ]
    },
    {
      "cell_type": "code",
      "execution_count": 282,
      "metadata": {
        "colab": {
          "base_uri": "https://localhost:8080/"
        },
        "id": "bMKDjT8rKows",
        "outputId": "f2dea009-0a72-4976-c65c-edf8390c9816"
      },
      "outputs": [
        {
          "name": "stdout",
          "output_type": "stream",
          "text": [
            "Number of records: 182338\n",
            "Number of records with at least one null value: 0\n"
          ]
        }
      ],
      "source": [
        "num_rows_with_nulls = data.isnull().any(axis=1).sum()\n",
        "print(f\"Number of records: {len(data)}\")\n",
        "print(f\"Number of records with at least one null value: {num_rows_with_nulls}\")"
      ]
    },
    {
      "cell_type": "code",
      "execution_count": 283,
      "metadata": {
        "colab": {
          "base_uri": "https://localhost:8080/",
          "height": 206
        },
        "id": "DaIIBZhWW3mt",
        "outputId": "ac610aac-25af-4e02-d3fd-8f962e3c48ae"
      },
      "outputs": [
        {
          "data": {
            "text/html": [
              "<div>\n",
              "<style scoped>\n",
              "    .dataframe tbody tr th:only-of-type {\n",
              "        vertical-align: middle;\n",
              "    }\n",
              "\n",
              "    .dataframe tbody tr th {\n",
              "        vertical-align: top;\n",
              "    }\n",
              "\n",
              "    .dataframe thead th {\n",
              "        text-align: right;\n",
              "    }\n",
              "</style>\n",
              "<table border=\"1\" class=\"dataframe\">\n",
              "  <thead>\n",
              "    <tr style=\"text-align: right;\">\n",
              "      <th></th>\n",
              "      <th>city_id</th>\n",
              "      <th>date</th>\n",
              "      <th>avg_temp_c</th>\n",
              "      <th>min_temp_c</th>\n",
              "      <th>max_temp_c</th>\n",
              "      <th>avg_wind_dir_deg</th>\n",
              "      <th>avg_wind_speed_kmh</th>\n",
              "      <th>city</th>\n",
              "      <th>day_of_week</th>\n",
              "      <th>day_of_year</th>\n",
              "      <th>month</th>\n",
              "      <th>temp_range</th>\n",
              "    </tr>\n",
              "  </thead>\n",
              "  <tbody>\n",
              "    <tr>\n",
              "      <th>0</th>\n",
              "      <td>C001</td>\n",
              "      <td>2014-01-01</td>\n",
              "      <td>-1.244652</td>\n",
              "      <td>-1.615164</td>\n",
              "      <td>-1.181246</td>\n",
              "      <td>-0.084152</td>\n",
              "      <td>-0.825328</td>\n",
              "      <td>-1.729156</td>\n",
              "      <td>-0.500611</td>\n",
              "      <td>-1.727467</td>\n",
              "      <td>-1.601858</td>\n",
              "      <td>0.840131</td>\n",
              "    </tr>\n",
              "    <tr>\n",
              "      <th>1</th>\n",
              "      <td>C001</td>\n",
              "      <td>2014-01-02</td>\n",
              "      <td>-0.974157</td>\n",
              "      <td>-0.843364</td>\n",
              "      <td>-1.017647</td>\n",
              "      <td>-0.212386</td>\n",
              "      <td>-0.202979</td>\n",
              "      <td>-1.729156</td>\n",
              "      <td>-0.000590</td>\n",
              "      <td>-1.717983</td>\n",
              "      <td>-1.601858</td>\n",
              "      <td>-0.472820</td>\n",
              "    </tr>\n",
              "    <tr>\n",
              "      <th>2</th>\n",
              "      <td>C001</td>\n",
              "      <td>2014-01-03</td>\n",
              "      <td>-1.144469</td>\n",
              "      <td>-1.284393</td>\n",
              "      <td>-0.950283</td>\n",
              "      <td>0.157519</td>\n",
              "      <td>-0.890838</td>\n",
              "      <td>-1.729156</td>\n",
              "      <td>0.499431</td>\n",
              "      <td>-1.708498</td>\n",
              "      <td>-1.601858</td>\n",
              "      <td>0.643188</td>\n",
              "    </tr>\n",
              "    <tr>\n",
              "      <th>3</th>\n",
              "      <td>C001</td>\n",
              "      <td>2014-01-04</td>\n",
              "      <td>-1.144469</td>\n",
              "      <td>-1.083925</td>\n",
              "      <td>-1.017647</td>\n",
              "      <td>1.129135</td>\n",
              "      <td>0.009929</td>\n",
              "      <td>-1.729156</td>\n",
              "      <td>0.999452</td>\n",
              "      <td>-1.699014</td>\n",
              "      <td>-1.601858</td>\n",
              "      <td>0.052360</td>\n",
              "    </tr>\n",
              "    <tr>\n",
              "      <th>4</th>\n",
              "      <td>C001</td>\n",
              "      <td>2014-01-05</td>\n",
              "      <td>-1.044286</td>\n",
              "      <td>-1.424720</td>\n",
              "      <td>-0.671204</td>\n",
              "      <td>0.225335</td>\n",
              "      <td>-1.021859</td>\n",
              "      <td>-1.729156</td>\n",
              "      <td>1.499473</td>\n",
              "      <td>-1.689529</td>\n",
              "      <td>-1.601858</td>\n",
              "      <td>1.584136</td>\n",
              "    </tr>\n",
              "  </tbody>\n",
              "</table>\n",
              "</div>"
            ],
            "text/plain": [
              "  city_id        date  avg_temp_c  min_temp_c  max_temp_c  avg_wind_dir_deg  \\\n",
              "0    C001  2014-01-01   -1.244652   -1.615164   -1.181246         -0.084152   \n",
              "1    C001  2014-01-02   -0.974157   -0.843364   -1.017647         -0.212386   \n",
              "2    C001  2014-01-03   -1.144469   -1.284393   -0.950283          0.157519   \n",
              "3    C001  2014-01-04   -1.144469   -1.083925   -1.017647          1.129135   \n",
              "4    C001  2014-01-05   -1.044286   -1.424720   -0.671204          0.225335   \n",
              "\n",
              "   avg_wind_speed_kmh      city  day_of_week  day_of_year     month  \\\n",
              "0           -0.825328 -1.729156    -0.500611    -1.727467 -1.601858   \n",
              "1           -0.202979 -1.729156    -0.000590    -1.717983 -1.601858   \n",
              "2           -0.890838 -1.729156     0.499431    -1.708498 -1.601858   \n",
              "3            0.009929 -1.729156     0.999452    -1.699014 -1.601858   \n",
              "4           -1.021859 -1.729156     1.499473    -1.689529 -1.601858   \n",
              "\n",
              "   temp_range  \n",
              "0    0.840131  \n",
              "1   -0.472820  \n",
              "2    0.643188  \n",
              "3    0.052360  \n",
              "4    1.584136  "
            ]
          },
          "execution_count": 283,
          "metadata": {},
          "output_type": "execute_result"
        }
      ],
      "source": [
        "# print(data[features].head())\n",
        "\n",
        "# data_filled = data.fillna(-1)\n",
        "data.head()"
      ]
    },
    {
      "cell_type": "code",
      "execution_count": 284,
      "metadata": {},
      "outputs": [],
      "source": [
        "# # Calculate the IQR\n",
        "# Q1 = data['avg_temp_c'].quantile(0.25)\n",
        "# Q3 = data['avg_temp_c'].quantile(0.75)\n",
        "# IQR = Q3 - Q1\n",
        "\n",
        "# # Define the lower and upper bounds for outliers\n",
        "# lower_bound = Q1 - 1.5 * IQR\n",
        "# upper_bound = Q3 + 1.5 * IQR\n",
        "\n",
        "# # Identify outliers\n",
        "# outliers = data[(data['avg_temp_c'] < lower_bound) | (data['avg_temp_c'] > upper_bound)]\n",
        "# print(\"Outliers in avg_temp_c:\")\n",
        "# print(outliers)\n",
        "# outliers.shape, data.shape\n",
        "# # Remove outliers\n",
        "# data_cleaned = data[(data['avg_temp_c'] >= lower_bound) & (data['avg_temp_c'] <= upper_bound)]\n",
        "\n",
        "# # Display the cleaned data\n",
        "# print(data_cleaned.head())\n",
        "# data  = data_cleaned "
      ]
    },
    {
      "cell_type": "code",
      "execution_count": 285,
      "metadata": {
        "id": "bmpLwNTnW3mt"
      },
      "outputs": [],
      "source": [
        "# Create sequences for each city\n",
        "def create_sequences(df, features, target, seq_length=15, pred_length=3):#  seq_length=30, pred_length=7\n",
        "    X = []\n",
        "    y = []\n",
        "    for i in range(len(df) - seq_length - pred_length + 1):\n",
        "        X.append(df[features].iloc[i:i+seq_length].values)\n",
        "        y.append(df[target].iloc[i+seq_length:i+seq_length+pred_length].values)\n",
        "    return np.array(X), np.array(y)\n",
        "\n",
        "\n",
        "# Split data by city and create sequences\n",
        "city_data = data.groupby('city_id')\n",
        "seq_length=15 #  seq_length=30\n",
        "X_list = []\n",
        "y_list = []\n",
        "X_list_final = []\n",
        "last_dates = []\n",
        "for i, (_, group) in enumerate(city_data):\n",
        "    X, y = create_sequences(group, features, target, seq_length=seq_length)\n",
        "    X_list.append(X)\n",
        "    y_list.append(y)\n",
        "    X_last = group[features].iloc[-seq_length:].values\n",
        "    X_list_final.append(X_last)"
      ]
    },
    {
      "cell_type": "code",
      "execution_count": 286,
      "metadata": {
        "colab": {
          "base_uri": "https://localhost:8080/"
        },
        "id": "--1L3KiSW3mt",
        "outputId": "d61252e2-c152-4e90-f808-b98fb1783565"
      },
      "outputs": [
        {
          "name": "stdout",
          "output_type": "stream",
          "text": [
            "100\n",
            "100\n",
            "1790\n",
            "1790\n",
            "[1790, 1767, 1787, 1790, 1790, 1789, 1790, 1790, 1769, 1790, 1787, 1790, 1790, 1790, 1788, 1790, 1780, 1790, 1790, 1790, 1790, 1787, 1773, 1790, 1777, 1790, 1790, 1787, 1790, 1790, 1790, 1790, 1790, 1790, 1776, 1790, 1788, 1790, 1789, 1789, 1790, 1790, 1790, 1790, 1790, 1789, 1790, 1753, 1790, 1790, 1789, 1789, 1790, 1787, 1790, 1789, 1786, 1790, 1789, 1790, 1790, 1790, 1790, 1781, 1790, 1789, 1790, 1790, 1788, 1790, 1790, 1790, 1790, 1790, 1790, 1776, 1790, 1790, 1789, 1774, 1790, 1790, 1784, 1790, 1790, 1787, 1790, 1784, 1790, 1789, 1790, 1788, 1789, 1790, 1790, 1790, 1790, 1789, 1783, 1764]\n",
            "30\n"
          ]
        },
        {
          "data": {
            "text/plain": [
              "(30, 9)"
            ]
          },
          "execution_count": 286,
          "metadata": {},
          "output_type": "execute_result"
        }
      ],
      "source": [
        "print(len(X_list))\n",
        "print(len(y_list))\n",
        "print(len(X_list[0]))\n",
        "print(len(y_list[0]))\n",
        "lengths = [len(element) for element in X_list]\n",
        "print(lengths)\n",
        "print(len(X_list[0][0]))\n",
        "X_list[0][0].shape"
      ]
    },
    {
      "cell_type": "code",
      "execution_count": 287,
      "metadata": {
        "id": "PnTFuL0bW3mu"
      },
      "outputs": [],
      "source": [
        "import torch\n",
        "import torch.nn as nn\n",
        "import torch.optim as optim\n",
        "from torch.utils.data import Dataset, DataLoader, TensorDataset\n",
        "from matplotlib import pyplot as plt"
      ]
    },
    {
      "cell_type": "code",
      "execution_count": 288,
      "metadata": {
        "colab": {
          "base_uri": "https://localhost:8080/"
        },
        "id": "3VBHveosW3mu",
        "outputId": "ec41d2d2-e55b-4dea-fab5-f03fb636e1f7"
      },
      "outputs": [
        {
          "name": "stdout",
          "output_type": "stream",
          "text": [
            "(178738, 30, 9)\n",
            "(100, 30, 9)\n"
          ]
        }
      ],
      "source": [
        "print(np.concatenate(X_list, axis=0).shape)\n",
        "print(np.array(X_list_final).shape)"
      ]
    },
    {
      "cell_type": "code",
      "execution_count": 289,
      "metadata": {
        "id": "JDBaBNUOIRtM"
      },
      "outputs": [],
      "source": [
        "device = torch.device('cuda' if torch.cuda.is_available() else 'cpu')\n",
        "X = np.concatenate(X_list, axis=0)\n",
        "y = np.concatenate(y_list, axis=0)\n",
        "\n",
        "# Split into train and test sets\n",
        "# X_train, X_test, y_train, y_test = train_test_split(\n",
        "#     X, y, test_size=0.2)\n",
        "num_samples = X.shape[0]  # Number of samples in your dataset\n",
        "split_index = int(num_samples * (1 - 0.05))  # Calculate index for 80% of the data\n",
        "\n",
        "# Split the data at the calculated index\n",
        "X_train, X_test = X[:split_index], X[split_index:]\n",
        "y_train, y_test = y[:split_index], y[split_index:]"
      ]
    },
    {
      "cell_type": "code",
      "execution_count": 290,
      "metadata": {
        "id": "lueKAvApIUwL"
      },
      "outputs": [],
      "source": [
        "# Convert to PyTorch tensors\n",
        "X_train_tensor = torch.tensor(X_train, dtype=torch.float32).to(device)\n",
        "y_train_tensor = torch.tensor(y_train, dtype=torch.float32).to(device)\n",
        "X_test_tensor = torch.tensor(X_test, dtype=torch.float32).to(device)\n",
        "y_test_tensor = torch.tensor(y_test, dtype=torch.float32).to(device)"
      ]
    },
    {
      "cell_type": "code",
      "execution_count": 291,
      "metadata": {
        "id": "Wc_SdQ70W3mu"
      },
      "outputs": [],
      "source": [
        "# Create DataLoader\n",
        "train_dataset = TensorDataset(X_train_tensor, y_train_tensor)\n",
        "test_dataset = TensorDataset(X_test_tensor, y_test_tensor)\n",
        "train_loader = DataLoader(train_dataset, batch_size=32, shuffle=True)\n",
        "test_loader = DataLoader(test_dataset, batch_size=32, shuffle=False)"
      ]
    },
    {
      "cell_type": "code",
      "execution_count": 292,
      "metadata": {
        "colab": {
          "base_uri": "https://localhost:8080/"
        },
        "id": "-NBBTxb6W3mv",
        "outputId": "ca8d255a-01e0-4c21-e884-0a319eaa7b4a"
      },
      "outputs": [],
      "source": [
        "# Convert to PyTorch tensors\n",
        "X_predict_tensor = torch.tensor(X_list_final, dtype=torch.float32).to(device)\n",
        "predict_dataset = TensorDataset(X_predict_tensor)\n",
        "predict_loader = DataLoader(predict_dataset, batch_size=1, shuffle=False)"
      ]
    },
    {
      "cell_type": "code",
      "execution_count": 293,
      "metadata": {
        "colab": {
          "base_uri": "https://localhost:8080/"
        },
        "id": "G1yVgEQcW3mv",
        "outputId": "d2cccd31-7c0b-4996-ac0f-f8ed9e21dda4"
      },
      "outputs": [
        {
          "name": "stdout",
          "output_type": "stream",
          "text": [
            "Train Inputs Shape: torch.Size([32, 30, 9]), Train Targets Shape: torch.Size([32, 7])\n",
            "Test Inputs Shape: torch.Size([32, 30, 9]), Test Targets Shape: torch.Size([32, 7])\n",
            "Predict Inputs Shape: torch.Size([1, 30, 9])\n"
          ]
        }
      ],
      "source": [
        "# For the train loader\n",
        "for i, (inputs, targets) in enumerate(train_loader):\n",
        "    if i == 1:\n",
        "        break\n",
        "    print(f'Train Inputs Shape: {inputs.shape}, Train Targets Shape: {targets.shape}')\n",
        "# For the test loader\n",
        "for i, (inputs, targets) in enumerate(test_loader):\n",
        "    if i == 1:\n",
        "        break\n",
        "    print(f'Test Inputs Shape: {inputs.shape}, Test Targets Shape: {targets.shape}')\n",
        "for i, (inputs,) in enumerate(predict_loader):\n",
        "    if i == 1:\n",
        "        break\n",
        "    print(f'Predict Inputs Shape: {inputs.shape}')"
      ]
    },
    {
      "cell_type": "code",
      "execution_count": 294,
      "metadata": {
        "id": "p6ULpEUEW3mw"
      },
      "outputs": [],
      "source": [
        "class LSTMModel(nn.Module):\n",
        "    def __init__(self, input_size, hidden_layer_size, output_size, num_layers, dropout):\n",
        "        super(LSTMModel, self).__init__()\n",
        "        self.hidden_layer_size = hidden_layer_size\n",
        "        self.num_layers = num_layers\n",
        "\n",
        "        self.lstm = nn.LSTM(input_size, hidden_layer_size,\n",
        "                            num_layers=num_layers, dropout=dropout, batch_first=True)\n",
        "        self.dropout = nn.Dropout(dropout)  # Dropout layer before the fully connected layer\n",
        "        self.fc = nn.Linear(hidden_layer_size, output_size)\n",
        "\n",
        "    def forward(self, x):\n",
        "        h0 = torch.zeros(self.num_layers, x.size(0), self.hidden_layer_size).to(x.device)\n",
        "        c0 = torch.zeros(self.num_layers, x.size(0), self.hidden_layer_size).to(x.device)\n",
        "\n",
        "        out, _ = self.lstm(x, (h0, c0))\n",
        "        out = self.dropout(out[:, -1, :])  # Apply dropout to the output of the LSTM layer\n",
        "        out = self.fc(out)\n",
        "        return out"
      ]
    },
    {
      "cell_type": "code",
      "execution_count": 295,
      "metadata": {
        "id": "O2U3rAfbW3mw"
      },
      "outputs": [],
      "source": [
        "def train_model(model, criterion, optimizer, dataloader):\n",
        "    model.train()\n",
        "    total_loss = 0\n",
        "\n",
        "    for data, target in dataloader:\n",
        "        optimizer.zero_grad()\n",
        "        output = model(data)\n",
        "        loss = criterion(output, target)\n",
        "        loss.backward()\n",
        "        # Apply gradient clipping\n",
        "        # torch.nn.utils.clip_grad_norm_(model.parameters(), max_norm=1)\n",
        "        optimizer.step()\n",
        "        total_loss += loss.item()\n",
        "    return total_loss / len(dataloader)"
      ]
    },
    {
      "cell_type": "code",
      "execution_count": 296,
      "metadata": {
        "id": "RhQ7_r69W3mw"
      },
      "outputs": [],
      "source": [
        "def evaluate_model(model, criterion, dataloader):\n",
        "    model.eval()\n",
        "    total_loss = 0\n",
        "\n",
        "    with torch.no_grad():\n",
        "        for data, target in dataloader:\n",
        "            output = model(data)\n",
        "            loss = criterion(output, target)\n",
        "            total_loss += loss.item()\n",
        "\n",
        "    return total_loss / len(dataloader)"
      ]
    },
    {
      "cell_type": "code",
      "execution_count": 297,
      "metadata": {
        "id": "u0-P7fVBW3mw"
      },
      "outputs": [],
      "source": [
        "def model_fit(model, criterion, optimizer, train_dataloader, test_dataloader, num_epochs=25, patience=10, checkpoint=40):\n",
        "    train_losses = []\n",
        "    test_losses = []\n",
        "\n",
        "    best_test_loss = float('inf')\n",
        "    patience_counter = 0\n",
        "\n",
        "    for epoch in range(num_epochs):\n",
        "        train_loss = train_model(\n",
        "            model, criterion, optimizer, train_dataloader)\n",
        "        test_loss = evaluate_model(\n",
        "            model, criterion, test_dataloader)\n",
        "\n",
        "        train_losses.append(train_loss)\n",
        "        test_losses.append(test_loss)\n",
        "\n",
        "        if test_loss < best_test_loss:\n",
        "            best_test_loss = test_loss\n",
        "            patience_counter = 0\n",
        "        else:\n",
        "            patience_counter += 1\n",
        "        if (epoch + 1) % checkpoint == 0:\n",
        "            print(f\"Epoch {epoch+1}/{num_epochs}: Train Loss = {train_loss:.4f}, Test Loss = {test_loss:.4f}\")\n",
        "\n",
        "        if patience_counter >= patience:\n",
        "            print(\"Early stopping triggered\")\n",
        "            break\n",
        "\n",
        "    return model, train_losses, test_losses"
      ]
    },
    {
      "cell_type": "code",
      "execution_count": 298,
      "metadata": {
        "id": "HXuaDH5PW3mx"
      },
      "outputs": [],
      "source": [
        "def plot_losses(train_losses, test_losses, figsize=(6, 3)):\n",
        "    plt.figure(figsize=figsize)\n",
        "    plt.plot(train_losses, label='Train Loss')\n",
        "    plt.plot(test_losses, label='Test Loss')\n",
        "    plt.title('Losses')\n",
        "    plt.xlabel('Epoch')\n",
        "    plt.ylabel('Loss')\n",
        "    plt.legend()\n",
        "    plt.show()"
      ]
    },
    {
      "cell_type": "code",
      "execution_count": 299,
      "metadata": {
        "id": "iv131aYXrVL3"
      },
      "outputs": [],
      "source": [
        "# Define model, loss function, and optimizer\n",
        "input_size = len(features)\n",
        "hidden_layer_size = 64\n",
        "output_size = 3\n",
        "num_layers = 2\n",
        "dropout = 0.5\n",
        "\n",
        "model = LSTMModel(input_size, hidden_layer_size,\n",
        "                  output_size, num_layers, dropout).to(device)\n",
        "loss_function = nn.MSELoss()\n",
        "optimizer = torch.optim.Adam(model.parameters(), lr=0.001, weight_decay=0.0001)"
      ]
    },
    {
      "cell_type": "code",
      "execution_count": 300,
      "metadata": {
        "colab": {
          "base_uri": "https://localhost:8080/"
        },
        "id": "o6XQk6hwW3mx",
        "outputId": "04009817-fe37-4b23-c305-9d35f36d73af"
      },
      "outputs": [],
      "source": [
        "# model, train_losses, test_losses = model_fit(\n",
        "#     model, loss_function, optimizer, train_loader, test_loader, num_epochs=25, checkpoint=5, patience=10)\n",
        "# plot_losses(train_losses, test_losses)"
      ]
    },
    {
      "cell_type": "code",
      "execution_count": 301,
      "metadata": {},
      "outputs": [
        {
          "name": "stderr",
          "output_type": "stream",
          "text": [
            "c:\\Users\\lisit\\AppData\\Local\\Programs\\Python\\Python311\\Lib\\site-packages\\torch\\amp\\grad_scaler.py:131: UserWarning: torch.cuda.amp.GradScaler is enabled, but CUDA is not available.  Disabling.\n",
            "  warnings.warn(\n",
            "c:\\Users\\lisit\\AppData\\Local\\Programs\\Python\\Python311\\Lib\\site-packages\\torch\\amp\\autocast_mode.py:250: UserWarning: User provided device_type of 'cuda', but CUDA is not available. Disabling\n",
            "  warnings.warn(\n"
          ]
        },
        {
          "name": "stdout",
          "output_type": "stream",
          "text": [
            "Epoch 1/25: Train Loss = 0.0984, Test Loss = 0.0586\n",
            "Epoch 2/25: Train Loss = 0.0869, Test Loss = 0.0597\n",
            "Epoch 3/25: Train Loss = 0.0853, Test Loss = 0.0593\n",
            "Epoch 4/25: Train Loss = 0.0836, Test Loss = 0.0561\n",
            "Epoch 5/25: Train Loss = 0.0831, Test Loss = 0.0543\n",
            "Epoch 6/25: Train Loss = 0.0822, Test Loss = 0.0534\n",
            "Epoch 7/25: Train Loss = 0.0812, Test Loss = 0.0533\n",
            "Epoch 8/25: Train Loss = 0.0809, Test Loss = 0.0555\n",
            "Epoch 9/25: Train Loss = 0.0801, Test Loss = 0.0524\n",
            "Epoch 10/25: Train Loss = 0.0797, Test Loss = 0.0517\n",
            "Epoch 11/25: Train Loss = 0.0790, Test Loss = 0.0511\n"
          ]
        }
      ],
      "source": [
        "import torch\n",
        "import torch.nn as nn\n",
        "import torch.optim as optim\n",
        "from torch.optim.lr_scheduler import ReduceLROnPlateau\n",
        "from torch.utils.data import DataLoader, TensorDataset\n",
        "from torch.cuda.amp import GradScaler, autocast\n",
        "import numpy as np\n",
        "\n",
        "# Define LSTM model class\n",
        "class LSTMModel(nn.Module):\n",
        "    def __init__(self, input_size, hidden_layer_size, output_size, num_layers, dropout):\n",
        "        super(LSTMModel, self).__init__()\n",
        "        self.hidden_layer_size = hidden_layer_size\n",
        "        self.num_layers = num_layers\n",
        "\n",
        "        self.lstm = nn.LSTM(input_size, hidden_layer_size,\n",
        "                            num_layers=num_layers, dropout=dropout, batch_first=True)\n",
        "        self.dropout = nn.Dropout(dropout)\n",
        "        self.fc = nn.Linear(hidden_layer_size, output_size)\n",
        "        \n",
        "        # Weight initialization\n",
        "        for name, param in self.lstm.named_parameters():\n",
        "            if 'weight' in name:\n",
        "                nn.init.xavier_uniform_(param)\n",
        "\n",
        "    def forward(self, x):\n",
        "        h0 = torch.zeros(self.num_layers, x.size(0), self.hidden_layer_size).to(x.device)\n",
        "        c0 = torch.zeros(self.num_layers, x.size(0), self.hidden_layer_size).to(x.device)\n",
        "\n",
        "        out, _ = self.lstm(x, (h0, c0))\n",
        "        out = self.dropout(out[:, -1, :])\n",
        "        out = self.fc(out)\n",
        "        return out\n",
        "\n",
        "def train_model(model, criterion, optimizer, dataloader, scaler):\n",
        "    model.train()\n",
        "    total_loss = 0\n",
        "\n",
        "    for data, target in dataloader:\n",
        "        data, target = data.to(device), target.to(device)\n",
        "        optimizer.zero_grad()\n",
        "        with autocast():\n",
        "            output = model(data)\n",
        "            loss = criterion(output, target)\n",
        "        \n",
        "        scaler.scale(loss).backward()\n",
        "        torch.nn.utils.clip_grad_norm_(model.parameters(), max_norm=1)\n",
        "        scaler.step(optimizer)\n",
        "        scaler.update()\n",
        "        total_loss += loss.item()\n",
        "    return total_loss / len(dataloader)\n",
        "\n",
        "def evaluate_model(model, criterion, dataloader):\n",
        "    model.eval()\n",
        "    total_loss = 0\n",
        "\n",
        "    with torch.no_grad():\n",
        "        for data, target in dataloader:\n",
        "            data, target = data.to(device), target.to(device)\n",
        "            output = model(data)\n",
        "            loss = criterion(output, target)\n",
        "            total_loss += loss.item()\n",
        "\n",
        "    return total_loss / len(dataloader)\n",
        "\n",
        "def model_fit(model, criterion, optimizer, train_dataloader, test_dataloader, num_epochs=25, patience=10, checkpoint=5):\n",
        "    train_losses = []\n",
        "    test_losses = []\n",
        "    scaler = GradScaler()\n",
        "\n",
        "    best_test_loss = float('inf')\n",
        "    patience_counter = 0\n",
        "    scheduler = ReduceLROnPlateau(optimizer, 'min', patience=5, factor=0.5)\n",
        "\n",
        "    for epoch in range(num_epochs):\n",
        "        train_loss = train_model(model, criterion, optimizer, train_dataloader, scaler)\n",
        "        test_loss = evaluate_model(model, criterion, test_dataloader)\n",
        "\n",
        "        train_losses.append(train_loss)\n",
        "        test_losses.append(test_loss)\n",
        "\n",
        "        if test_loss < best_test_loss:\n",
        "            best_test_loss = test_loss\n",
        "            patience_counter = 0\n",
        "            torch.save(model.state_dict(), 'best_model.pth')\n",
        "        else:\n",
        "            patience_counter += 1\n",
        "\n",
        "        scheduler.step(test_loss)\n",
        "        \n",
        "        if (epoch + 1) % checkpoint == 0:\n",
        "            print(f\"Epoch {epoch+1}/{num_epochs}: Train Loss = {train_loss:.4f}, Test Loss = {test_loss:.4f}\")\n",
        "\n",
        "        if patience_counter >= patience:\n",
        "            print(\"Early stopping triggered\")\n",
        "            break\n",
        "\n",
        "    # Load the best model\n",
        "    model.load_state_dict(torch.load('best_model.pth'))\n",
        "\n",
        "    return model, train_losses, test_losses\n",
        "\n",
        "# Define model, loss function, and optimizer\n",
        "input_size = len(features)\n",
        "hidden_layer_size = 64\n",
        "output_size = 3\n",
        "num_layers = 2\n",
        "dropout = 0.5\n",
        "\n",
        "model = LSTMModel(input_size, hidden_layer_size, output_size, num_layers, dropout).to(device)\n",
        "loss_function = nn.MSELoss()\n",
        "optimizer = torch.optim.AdamW(model.parameters(), lr=0.001, weight_decay=0.0001)\n",
        "\n",
        "# Data loaders\n",
        "batch_size = 64\n",
        "# Create DataLoader\n",
        "train_dataset = TensorDataset(X_train_tensor, y_train_tensor)\n",
        "test_dataset = TensorDataset(X_test_tensor, y_test_tensor)\n",
        "train_loader = DataLoader(train_dataset, batch_size=32, shuffle=True)\n",
        "test_loader = DataLoader(test_dataset, batch_size=32, shuffle=False)\n",
        "\n",
        "\n",
        "# Train the model\n",
        "model, train_losses, test_losses = model_fit(\n",
        "    model, loss_function, optimizer, train_loader, test_loader, num_epochs=25, checkpoint=1, patience=10)\n",
        "\n",
        "# Plot losses\n",
        "plot_losses(train_losses, test_losses)\n"
      ]
    },
    {
      "cell_type": "code",
      "execution_count": null,
      "metadata": {},
      "outputs": [
        {
          "data": {
            "image/png": "[encoded data removed]",
            "text/plain": [
              "<Figure size 600x300 with 1 Axes>"
            ]
          },
          "metadata": {},
          "output_type": "display_data"
        }
      ],
      "source": [
        "plot_losses(train_losses, test_losses)\n"
      ]
    },
    {
      "cell_type": "code",
      "execution_count": null,
      "metadata": {
        "id": "o5q9j-y-W3mx"
      },
      "outputs": [
        {
          "ename": "IndexError",
          "evalue": "index 3 is out of bounds for axis 0 with size 3",
          "output_type": "error",
          "traceback": [
            "\u001b[1;31m---------------------------------------------------------------------------\u001b[0m",
            "\u001b[1;31mIndexError\u001b[0m                                Traceback (most recent call last)",
            "Cell \u001b[1;32mIn[249], line 25\u001b[0m\n\u001b[0;32m     21\u001b[0m \u001b[38;5;66;03m# For each day in the prediction\u001b[39;00m\n\u001b[0;32m     22\u001b[0m \u001b[38;5;28;01mfor\u001b[39;00m j \u001b[38;5;129;01min\u001b[39;00m \u001b[38;5;28mrange\u001b[39m(\u001b[38;5;241m7\u001b[39m):\n\u001b[0;32m     23\u001b[0m     \u001b[38;5;66;03m# Append a new row to the DataFrame\u001b[39;00m\n\u001b[0;32m     24\u001b[0m     new_entry \u001b[38;5;241m=\u001b[39m pd\u001b[38;5;241m.\u001b[39mDataFrame(\n\u001b[1;32m---> 25\u001b[0m         {\u001b[38;5;124m'\u001b[39m\u001b[38;5;124msubmission_ID\u001b[39m\u001b[38;5;124m'\u001b[39m: [submission_ID], \u001b[38;5;124m'\u001b[39m\u001b[38;5;124mcity_id\u001b[39m\u001b[38;5;124m'\u001b[39m: [city_id], \u001b[38;5;124m'\u001b[39m\u001b[38;5;124mdate\u001b[39m\u001b[38;5;124m'\u001b[39m: [date], \u001b[38;5;124m\"\u001b[39m\u001b[38;5;124mavg_temp_c\u001b[39m\u001b[38;5;124m\"\u001b[39m: [\u001b[43mpredictions\u001b[49m\u001b[43m[\u001b[49m\u001b[43mj\u001b[49m\u001b[43m]\u001b[49m]}, index\u001b[38;5;241m=\u001b[39m[\u001b[38;5;241m0\u001b[39m])\n\u001b[0;32m     26\u001b[0m     submission_df \u001b[38;5;241m=\u001b[39m pd\u001b[38;5;241m.\u001b[39mconcat([submission_df, new_entry], ignore_index\u001b[38;5;241m=\u001b[39m\u001b[38;5;28;01mTrue\u001b[39;00m)\n\u001b[0;32m     27\u001b[0m     \u001b[38;5;66;03m# Increment the submission ID\u001b[39;00m\n",
            "\u001b[1;31mIndexError\u001b[0m: index 3 is out of bounds for axis 0 with size 3"
          ]
        }
      ],
      "source": [
        "from datetime import datetime, timedelta\n",
        "\n",
        "# Initialize an empty DataFrame\n",
        "submission_df = pd.DataFrame(\n",
        "    columns=['submission_ID', 'city_id', 'date', \"avg_temp_c\"])\n",
        "# Initialize an non-empty DataFrame\n",
        "submission_df = pd.DataFrame(\n",
        "    {'submission_ID': [0], 'city_id': ['C000'], 'date': [datetime.strptime('2019-01-01', '%Y-%m-%d')], \"avg_temp_c\": [0.0]})\n",
        "\n",
        "# Initialize the submission ID\n",
        "submission_ID = 1\n",
        "date = datetime.strptime('2019-01-01', '%Y-%m-%d')\n",
        "# Iterate over the list of sequences\n",
        "for i, (inputs,) in enumerate(predict_loader):\n",
        "    # Generate the city_id\n",
        "    city_id = 'C' + str(i+1).zfill(3)\n",
        "\n",
        "    # Use the model to predict the next 14 days\n",
        "    predictions = model(inputs)\n",
        "    predictions = predictions.detach().cpu().numpy().flatten()\n",
        "    # For each day in the prediction\n",
        "    for j in range(7):\n",
        "        # Append a new row to the DataFrame\n",
        "        new_entry = pd.DataFrame(\n",
        "            {'submission_ID': [submission_ID], 'city_id': [city_id], 'date': [date], \"avg_temp_c\": [predictions[j]]}, index=[0])\n",
        "        submission_df = pd.concat([submission_df, new_entry], ignore_index=True)\n",
        "        # Increment the submission ID\n",
        "        date += timedelta(days=1)\n",
        "        submission_ID += 1\n",
        "    date = datetime.strptime('2019-01-01', '%Y-%m-%d')\n",
        "# Drop the initial row\n",
        "submission_df = submission_df.iloc[1:]"
      ]
    },
    {
      "cell_type": "code",
      "execution_count": null,
      "metadata": {
        "colab": {
          "base_uri": "https://localhost:8080/"
        },
        "id": "0RYLflxXW3mx",
        "outputId": "ee611904-01ad-4b39-cfdb-c0e317121bef"
      },
      "outputs": [
        {
          "name": "stdout",
          "output_type": "stream",
          "text": [
            "     submission_ID city_id       date  avg_temp_c\n",
            "1                1    C001 2019-01-01   -0.823072\n",
            "2                2    C001 2019-01-02   -0.869276\n",
            "3                3    C001 2019-01-03   -0.893562\n",
            "4                4    C002 2019-01-01   -0.451946\n",
            "5                5    C002 2019-01-02   -0.476310\n",
            "..             ...     ...        ...         ...\n",
            "296            296    C099 2019-01-02    0.843215\n",
            "297            297    C099 2019-01-03    0.834449\n",
            "298            298    C100 2019-01-01    0.177258\n",
            "299            299    C100 2019-01-02    0.172073\n",
            "300            300    C100 2019-01-03    0.169280\n",
            "\n",
            "[300 rows x 4 columns]\n"
          ]
        }
      ],
      "source": [
        "print(submission_df)"
      ]
    },
    {
      "cell_type": "code",
      "execution_count": null,
      "metadata": {
        "id": "r7CCxHnDLbo3"
      },
      "outputs": [],
      "source": [
        "y_pred_original_scale_placeholder = np.zeros((submission_df.shape[0], 10))\n",
        "\n",
        "y_pred_original_scale_placeholder[:, 0] = submission_df['avg_temp_c'].values\n",
        "\n",
        "y_pred_original_scale = scaler.inverse_transform(y_pred_original_scale_placeholder)\n",
        "\n",
        "y_pred_original_scale = y_pred_original_scale[:, 0]"
      ]
    },
    {
      "cell_type": "code",
      "execution_count": null,
      "metadata": {
        "colab": {
          "base_uri": "https://localhost:8080/"
        },
        "id": "3pJDX4nVKoif",
        "outputId": "721c5d2c-4305-41fb-e4e7-341bdbfa4b53"
      },
      "outputs": [
        {
          "data": {
            "text/plain": [
              "array([-8.23071659e-01, -8.69275987e-01, -8.93562198e-01, -4.51945752e-01,\n",
              "       -4.76310283e-01, -4.90191042e-01,  8.10003519e-01,  8.01829815e-01,\n",
              "        7.98521459e-01, -1.92661572e+00, -1.92164743e+00, -1.91592145e+00,\n",
              "        5.58891237e-01,  5.39128959e-01,  5.28744757e-01,  1.21643454e-01,\n",
              "        8.58997107e-02,  6.52710944e-02, -1.46558404e+00, -1.49357271e+00,\n",
              "       -1.50586951e+00, -6.44129515e-03,  4.21374477e-03,  9.54307616e-03,\n",
              "       -8.73841941e-02, -8.20717961e-02, -7.97066092e-02, -1.91437423e+00,\n",
              "       -1.90851057e+00, -1.90060687e+00, -9.32982981e-01, -1.02353406e+00,\n",
              "       -1.07184362e+00, -1.30313468e+00, -1.31693256e+00, -1.32146680e+00,\n",
              "       -1.45575190e+00, -1.46513093e+00, -1.46708167e+00,  5.73443532e-01,\n",
              "        5.58725417e-01,  5.51148236e-01,  1.78805158e-01,  1.58161551e-01,\n",
              "        1.46011546e-01,  7.02554762e-01,  6.91428959e-01,  6.86267912e-01,\n",
              "       -1.73189819e+00, -1.75390565e+00, -1.76190341e+00,  6.60475373e-01,\n",
              "        6.41941786e-01,  6.32593751e-01, -2.35888219e+00, -2.35751796e+00,\n",
              "       -2.35216260e+00,  8.42875063e-01,  8.22472811e-01,  8.12122166e-01,\n",
              "       -9.20526922e-01, -9.96546805e-01, -1.03622937e+00, -9.39158618e-01,\n",
              "       -1.04706347e+00, -1.10416257e+00, -2.89186358e+00, -2.88150740e+00,\n",
              "       -2.87578368e+00,  6.89193726e-01,  6.81828737e-01,  6.78703725e-01,\n",
              "        6.32551670e-01,  6.10790849e-01,  5.99326193e-01,  8.62411141e-01,\n",
              "        8.52991879e-01,  8.49085987e-01, -1.72402787e+00, -1.76118028e+00,\n",
              "       -1.77791142e+00, -1.71838427e+00, -1.74574113e+00, -1.75738513e+00,\n",
              "       -8.71789813e-01, -9.57184494e-01, -1.00273848e+00,  9.09123480e-01,\n",
              "        8.96426082e-01,  8.90662670e-01, -2.07825518e+00, -2.03703046e+00,\n",
              "       -2.00971341e+00, -9.28059816e-01, -1.03278196e+00, -1.08832836e+00,\n",
              "        9.08784866e-01,  9.03649986e-01,  9.02071595e-01, -6.08163774e-01,\n",
              "       -6.40850246e-01, -6.58447087e-01,  9.03597414e-01,  8.89125526e-01,\n",
              "        8.82510602e-01,  2.27229595e-01,  2.07356781e-01,  1.96055114e-01,\n",
              "       -1.41080236e+00, -1.45408762e+00, -1.47507918e+00, -6.94050491e-01,\n",
              "       -7.11395860e-01, -7.19373763e-01,  7.68531203e-01,  7.66695380e-01,\n",
              "        7.66961813e-01, -1.43091202e+00, -1.41060841e+00, -1.39674377e+00,\n",
              "       -1.29208815e+00, -1.30613983e+00, -1.31072676e+00, -6.05156779e-01,\n",
              "       -6.71211123e-01, -7.06919551e-01, -1.34656274e+00, -1.32601523e+00,\n",
              "       -1.31177211e+00,  9.24912393e-01,  9.12900388e-01,  9.07479465e-01,\n",
              "       -1.96801007e+00, -2.01366353e+00, -2.03674912e+00, -1.82281721e+00,\n",
              "       -1.84659278e+00, -1.85537088e+00, -1.04506910e+00, -1.13322294e+00,\n",
              "       -1.17976069e+00, -1.73218834e+00, -1.67210770e+00, -1.63539028e+00,\n",
              "        3.36964548e-01,  3.10508937e-01,  2.95584232e-01,  6.63263917e-01,\n",
              "        6.41231537e-01,  6.29675925e-01, -5.11924148e-01, -5.08301795e-01,\n",
              "       -5.06258726e-01,  3.50639105e-01,  3.57590109e-01,  3.62007827e-01,\n",
              "       -6.69064224e-01, -6.92717552e-01, -7.05112755e-01, -8.87510419e-01,\n",
              "       -9.36656058e-01, -9.62117136e-01, -6.21886015e-01, -6.36685729e-01,\n",
              "       -6.44416094e-01,  4.99021858e-01,  5.07403553e-01,  5.13093472e-01,\n",
              "        4.40357566e-01,  4.35743362e-01,  4.33567435e-01, -9.58013713e-01,\n",
              "       -9.59916115e-01, -9.59620416e-01, -2.57054299e-01, -2.30574831e-01,\n",
              "       -2.16235831e-01,  7.79673576e-01,  7.63402522e-01,  7.55274057e-01,\n",
              "        5.15382051e-01,  5.08274674e-01,  5.04957914e-01, -2.40292192e+00,\n",
              "       -2.40574622e+00, -2.40395212e+00, -1.65989256e+00, -1.70863032e+00,\n",
              "       -1.73199368e+00,  4.49395418e-01,  4.52860624e-01,  4.55404311e-01,\n",
              "        8.01527858e-01,  7.88598061e-01,  7.82538474e-01, -1.19794261e+00,\n",
              "       -1.28030741e+00, -1.32288945e+00,  9.43703577e-04,  7.46159442e-03,\n",
              "        1.04091130e-02, -1.34604836e+00, -1.38129652e+00, -1.39820457e+00,\n",
              "        1.46220773e-01,  1.22278169e-01,  1.08170018e-01,  7.42860436e-01,\n",
              "        7.28465080e-01,  7.21440136e-01,  9.00464714e-01,  8.92567575e-01,\n",
              "        8.89318883e-01, -1.07761705e+00, -1.08849728e+00, -1.09153569e+00,\n",
              "       -6.47233069e-01, -6.50270283e-01, -6.52529001e-01,  5.62064171e-01,\n",
              "        5.56975007e-01,  5.54953635e-01, -8.56362045e-01, -9.15926814e-01,\n",
              "       -9.46707428e-01,  9.05070007e-01,  8.88278425e-01,  8.80299389e-01,\n",
              "        8.24370742e-01,  8.10593426e-01,  8.03997576e-01, -1.00252092e+00,\n",
              "       -1.07893825e+00, -1.11861551e+00,  8.36695790e-01,  8.34086537e-01,\n",
              "        8.33925068e-01,  5.14387339e-02,  6.44536391e-02,  7.09783435e-02,\n",
              "       -2.01399803e+00, -2.04308796e+00, -2.05617714e+00, -1.18930638e+00,\n",
              "       -1.19074965e+00, -1.18884754e+00,  7.77366519e-01,  7.73433387e-01,\n",
              "        7.72480190e-01,  4.26422566e-01,  3.95457357e-01,  3.78016770e-01,\n",
              "       -1.57372081e+00, -1.63003922e+00, -1.65835083e+00, -1.29219592e+00,\n",
              "       -1.27264619e+00, -1.25885642e+00, -1.69182098e+00, -1.62992477e+00,\n",
              "       -1.59158850e+00,  5.33617020e-01,  4.91643995e-01,  4.68259007e-01,\n",
              "        6.97091758e-01,  6.88935220e-01,  6.85337484e-01, -1.62563336e+00,\n",
              "       -1.59245729e+00, -1.57051313e+00, -1.59695029e+00, -1.55011630e+00,\n",
              "       -1.52117324e+00,  9.11017060e-01,  9.02553439e-01,  8.99117291e-01,\n",
              "       -1.47543275e+00, -1.51335740e+00, -1.53076601e+00,  2.50502199e-01,\n",
              "        2.38370970e-01,  2.31366411e-01, -9.92463350e-01, -1.05196738e+00,\n",
              "       -1.08258641e+00,  2.20560700e-01,  1.99340254e-01,  1.87832832e-01,\n",
              "       -1.90018213e+00, -1.83962131e+00, -1.80134881e+00,  7.91693091e-01,\n",
              "        7.70686626e-01,  7.59950995e-01,  8.60795736e-01,  8.43215227e-01,\n",
              "        8.34448755e-01,  1.77258432e-01,  1.72072664e-01,  1.69280201e-01])"
            ]
          },
          "execution_count": 245,
          "metadata": {},
          "output_type": "execute_result"
        }
      ],
      "source": [
        "y_pred_original_scale"
      ]
    },
    {
      "cell_type": "code",
      "execution_count": null,
      "metadata": {
        "colab": {
          "base_uri": "https://localhost:8080/",
          "height": 423
        },
        "id": "CGpnb1nDMSih",
        "outputId": "04a49eb6-793a-4c3c-c26f-a5758f3f0328"
      },
      "outputs": [
        {
          "data": {
            "text/html": [
              "<div>\n",
              "<style scoped>\n",
              "    .dataframe tbody tr th:only-of-type {\n",
              "        vertical-align: middle;\n",
              "    }\n",
              "\n",
              "    .dataframe tbody tr th {\n",
              "        vertical-align: top;\n",
              "    }\n",
              "\n",
              "    .dataframe thead th {\n",
              "        text-align: right;\n",
              "    }\n",
              "</style>\n",
              "<table border=\"1\" class=\"dataframe\">\n",
              "  <thead>\n",
              "    <tr style=\"text-align: right;\">\n",
              "      <th></th>\n",
              "      <th>avg_temp_c</th>\n",
              "    </tr>\n",
              "  </thead>\n",
              "  <tbody>\n",
              "    <tr>\n",
              "      <th>0</th>\n",
              "      <td>-0.832835</td>\n",
              "    </tr>\n",
              "    <tr>\n",
              "      <th>1</th>\n",
              "      <td>-0.875795</td>\n",
              "    </tr>\n",
              "    <tr>\n",
              "      <th>2</th>\n",
              "      <td>-0.912835</td>\n",
              "    </tr>\n",
              "    <tr>\n",
              "      <th>3</th>\n",
              "      <td>-0.406679</td>\n",
              "    </tr>\n",
              "    <tr>\n",
              "      <th>4</th>\n",
              "      <td>-0.427342</td>\n",
              "    </tr>\n",
              "    <tr>\n",
              "      <th>...</th>\n",
              "      <td>...</td>\n",
              "    </tr>\n",
              "    <tr>\n",
              "      <th>295</th>\n",
              "      <td>0.824845</td>\n",
              "    </tr>\n",
              "    <tr>\n",
              "      <th>296</th>\n",
              "      <td>0.821979</td>\n",
              "    </tr>\n",
              "    <tr>\n",
              "      <th>297</th>\n",
              "      <td>0.160783</td>\n",
              "    </tr>\n",
              "    <tr>\n",
              "      <th>298</th>\n",
              "      <td>0.173780</td>\n",
              "    </tr>\n",
              "    <tr>\n",
              "      <th>299</th>\n",
              "      <td>0.181424</td>\n",
              "    </tr>\n",
              "  </tbody>\n",
              "</table>\n",
              "<p>300 rows × 1 columns</p>\n",
              "</div>"
            ],
            "text/plain": [
              "     avg_temp_c\n",
              "0     -0.832835\n",
              "1     -0.875795\n",
              "2     -0.912835\n",
              "3     -0.406679\n",
              "4     -0.427342\n",
              "..          ...\n",
              "295    0.824845\n",
              "296    0.821979\n",
              "297    0.160783\n",
              "298    0.173780\n",
              "299    0.181424\n",
              "\n",
              "[300 rows x 1 columns]"
            ]
          },
          "execution_count": 203,
          "metadata": {},
          "output_type": "execute_result"
        }
      ],
      "source": [
        "y_pred_original_scale = pd.DataFrame(y_pred_original_scale, columns=['avg_temp_c'])\n",
        "y_pred_original_scale"
      ]
    },
    {
      "cell_type": "code",
      "execution_count": null,
      "metadata": {
        "id": "KxX2ZpPsMeVz"
      },
      "outputs": [],
      "source": [
        "\n",
        "y_pred_original_scale.to_csv('time_ans_8_10.csv')\n"
      ]
    },
    {
      "cell_type": "code",
      "execution_count": null,
      "metadata": {
        "id": "15cIrnx1xy3K"
      },
      "outputs": [],
      "source": [
        "# from sklearn.ensemble import StackingRegressor\n",
        "# from sklearn.linear_model import LinearRegression\n",
        "# from sklearn.svm import SVR\n",
        "# from sklearn.tree import DecisionTreeRegressor\n",
        "# # from sklearn.datasets import load_boston\n",
        "# from sklearn.model_selection import train_test_split\n",
        "\n",
        "# # Load dataset\n",
        "# # X, y = load_boston(return_X_y=True)\n",
        "\n",
        "# # Split dataset\n",
        "# # X_train, X_test, y_train, y_test = train_test_split(X, y, test_size=0.2, random_state=42)\n",
        "\n",
        "# # Define base models\n",
        "# base_models = [\n",
        "#     ('lr', LinearRegression()),\n",
        "#     ('svr', SVR()),\n",
        "#     ('dt', DecisionTreeRegressor())\n",
        "# ]"
      ]
    },
    {
      "cell_type": "code",
      "execution_count": null,
      "metadata": {
        "id": "hohDvtjJyVvC"
      },
      "outputs": [],
      "source": [
        "# # Define the Stacking Regressor\n",
        "# model = StackingRegressor(estimators=base_models, final_estimator=LinearRegression())\n",
        "\n",
        "# # Convert PyTorch tensors to NumPy arrays for sklearn\n",
        "# # Note: This step assumes X_train_tensor, y_train_tensor, X_test_tensor, y_test_tensor are already defined as in your snippet\n",
        "# X_train_np = X_train_tensor.cpu().detach().numpy()\n",
        "# y_train_np = y_train_tensor.cpu().detach().numpy()\n",
        "# X_test_np = X_test_tensor.cpu().detach().numpy()\n",
        "# y_test_np = y_test_tensor.cpu().detach().numpy()"
      ]
    },
    {
      "cell_type": "code",
      "execution_count": null,
      "metadata": {
        "id": "6L9HlY1Cz61f"
      },
      "outputs": [],
      "source": [
        "# X_train_flattened = X_train.reshape(X_train.shape[0], -1)\n",
        "# y_train_flattened = y_train.reshape(X_train.shape[0], -1)"
      ]
    },
    {
      "cell_type": "code",
      "execution_count": null,
      "metadata": {
        "id": "A1z7Y_qA1Bco"
      },
      "outputs": [],
      "source": []
    },
    {
      "cell_type": "code",
      "execution_count": null,
      "metadata": {
        "colab": {
          "base_uri": "https://localhost:8080/",
          "height": 388
        },
        "id": "Z7opiCt9z5al",
        "outputId": "a037147b-0292-48c0-cc2e-f60536ca9426"
      },
      "outputs": [
        {
          "ename": "ValueError",
          "evalue": "y should be a 1d array, got an array of shape (142990, 7) instead.",
          "output_type": "error",
          "traceback": [
            "\u001b[0;31m---------------------------------------------------------------------------\u001b[0m",
            "\u001b[0;31mValueError\u001b[0m                                Traceback (most recent call last)",
            "\u001b[0;32m<ipython-input-24-e0e87f52cbdb>\u001b[0m in \u001b[0;36m<cell line: 2>\u001b[0;34m()\u001b[0m\n\u001b[1;32m      1\u001b[0m \u001b[0;31m# Fit the Stacking Regressor\u001b[0m\u001b[0;34m\u001b[0m\u001b[0;34m\u001b[0m\u001b[0m\n\u001b[0;32m----> 2\u001b[0;31m \u001b[0mmodel\u001b[0m\u001b[0;34m.\u001b[0m\u001b[0mfit\u001b[0m\u001b[0;34m(\u001b[0m\u001b[0mX_train_flattened\u001b[0m\u001b[0;34m,\u001b[0m \u001b[0my_train_flattened\u001b[0m\u001b[0;34m)\u001b[0m\u001b[0;34m\u001b[0m\u001b[0;34m\u001b[0m\u001b[0m\n\u001b[0m\u001b[1;32m      3\u001b[0m \u001b[0;34m\u001b[0m\u001b[0m\n\u001b[1;32m      4\u001b[0m \u001b[0;31m# Make predictions\u001b[0m\u001b[0;34m\u001b[0m\u001b[0;34m\u001b[0m\u001b[0m\n\u001b[1;32m      5\u001b[0m \u001b[0;31m# predictions = model.predict(X_test_np)\u001b[0m\u001b[0;34m\u001b[0m\u001b[0;34m\u001b[0m\u001b[0m\n",
            "\u001b[0;32m/usr/local/lib/python3.10/dist-packages/sklearn/ensemble/_stacking.py\u001b[0m in \u001b[0;36mfit\u001b[0;34m(self, X, y, sample_weight)\u001b[0m\n\u001b[1;32m    955\u001b[0m             \u001b[0mReturns\u001b[0m \u001b[0ma\u001b[0m \u001b[0mfitted\u001b[0m \u001b[0minstance\u001b[0m\u001b[0;34m.\u001b[0m\u001b[0;34m\u001b[0m\u001b[0;34m\u001b[0m\u001b[0m\n\u001b[1;32m    956\u001b[0m         \"\"\"\n\u001b[0;32m--> 957\u001b[0;31m         \u001b[0my\u001b[0m \u001b[0;34m=\u001b[0m \u001b[0mcolumn_or_1d\u001b[0m\u001b[0;34m(\u001b[0m\u001b[0my\u001b[0m\u001b[0;34m,\u001b[0m \u001b[0mwarn\u001b[0m\u001b[0;34m=\u001b[0m\u001b[0;32mTrue\u001b[0m\u001b[0;34m)\u001b[0m\u001b[0;34m\u001b[0m\u001b[0;34m\u001b[0m\u001b[0m\n\u001b[0m\u001b[1;32m    958\u001b[0m         \u001b[0;32mreturn\u001b[0m \u001b[0msuper\u001b[0m\u001b[0;34m(\u001b[0m\u001b[0;34m)\u001b[0m\u001b[0;34m.\u001b[0m\u001b[0mfit\u001b[0m\u001b[0;34m(\u001b[0m\u001b[0mX\u001b[0m\u001b[0;34m,\u001b[0m \u001b[0my\u001b[0m\u001b[0;34m,\u001b[0m \u001b[0msample_weight\u001b[0m\u001b[0;34m)\u001b[0m\u001b[0;34m\u001b[0m\u001b[0;34m\u001b[0m\u001b[0m\n\u001b[1;32m    959\u001b[0m \u001b[0;34m\u001b[0m\u001b[0m\n",
            "\u001b[0;32m/usr/local/lib/python3.10/dist-packages/sklearn/utils/validation.py\u001b[0m in \u001b[0;36mcolumn_or_1d\u001b[0;34m(y, dtype, warn)\u001b[0m\n\u001b[1;32m   1200\u001b[0m         \u001b[0;32mreturn\u001b[0m \u001b[0m_asarray_with_order\u001b[0m\u001b[0;34m(\u001b[0m\u001b[0mxp\u001b[0m\u001b[0;34m.\u001b[0m\u001b[0mreshape\u001b[0m\u001b[0;34m(\u001b[0m\u001b[0my\u001b[0m\u001b[0;34m,\u001b[0m \u001b[0;34m-\u001b[0m\u001b[0;36m1\u001b[0m\u001b[0;34m)\u001b[0m\u001b[0;34m,\u001b[0m \u001b[0morder\u001b[0m\u001b[0;34m=\u001b[0m\u001b[0;34m\"C\"\u001b[0m\u001b[0;34m,\u001b[0m \u001b[0mxp\u001b[0m\u001b[0;34m=\u001b[0m\u001b[0mxp\u001b[0m\u001b[0;34m)\u001b[0m\u001b[0;34m\u001b[0m\u001b[0;34m\u001b[0m\u001b[0m\n\u001b[1;32m   1201\u001b[0m \u001b[0;34m\u001b[0m\u001b[0m\n\u001b[0;32m-> 1202\u001b[0;31m     raise ValueError(\n\u001b[0m\u001b[1;32m   1203\u001b[0m         \u001b[0;34m\"y should be a 1d array, got an array of shape {} instead.\"\u001b[0m\u001b[0;34m.\u001b[0m\u001b[0mformat\u001b[0m\u001b[0;34m(\u001b[0m\u001b[0mshape\u001b[0m\u001b[0;34m)\u001b[0m\u001b[0;34m\u001b[0m\u001b[0;34m\u001b[0m\u001b[0m\n\u001b[1;32m   1204\u001b[0m     )\n",
            "\u001b[0;31mValueError\u001b[0m: y should be a 1d array, got an array of shape (142990, 7) instead."
          ]
        }
      ],
      "source": [
        "# # Fit the Stacking Regressor\n",
        "# model.fit(X_train_flattened, y_train_flattened)\n",
        "\n",
        "# # Make predictions\n",
        "# # predictions = model.predict(X_test_np)"
      ]
    },
    {
      "cell_type": "code",
      "execution_count": null,
      "metadata": {
        "colab": {
          "base_uri": "https://localhost:8080/",
          "height": 478
        },
        "id": "U_9DcfZCW3my",
        "outputId": "52aed658-d4e7-48c8-83b0-3dd54d585318"
      },
      "outputs": [
        {
          "ename": "ValueError",
          "evalue": "Expected 2D array, got 1D array instead:\narray=[-1.24465196 -1.61516423 -1.18124567 ...  1.64904362  1.58756233\n  1.43095812].\nReshape your data either using array.reshape(-1, 1) if your data has a single feature or array.reshape(1, -1) if it contains a single sample.",
          "output_type": "error",
          "traceback": [
            "\u001b[0;31m---------------------------------------------------------------------------\u001b[0m",
            "\u001b[0;31mValueError\u001b[0m                                Traceback (most recent call last)",
            "\u001b[0;32m<ipython-input-83-c19b63511285>\u001b[0m in \u001b[0;36m<cell line: 23>\u001b[0;34m()\u001b[0m\n\u001b[1;32m     21\u001b[0m \u001b[0;31m# Initialize and train the Stacking model\u001b[0m\u001b[0;34m\u001b[0m\u001b[0;34m\u001b[0m\u001b[0m\n\u001b[1;32m     22\u001b[0m \u001b[0mmodel\u001b[0m \u001b[0;34m=\u001b[0m \u001b[0mStackingRegressor\u001b[0m\u001b[0;34m(\u001b[0m\u001b[0mestimators\u001b[0m\u001b[0;34m=\u001b[0m\u001b[0mbase_models\u001b[0m\u001b[0;34m,\u001b[0m \u001b[0mfinal_estimator\u001b[0m\u001b[0;34m=\u001b[0m\u001b[0mLinearRegression\u001b[0m\u001b[0;34m(\u001b[0m\u001b[0;34m)\u001b[0m\u001b[0;34m)\u001b[0m\u001b[0;34m\u001b[0m\u001b[0;34m\u001b[0m\u001b[0m\n\u001b[0;32m---> 23\u001b[0;31m \u001b[0mmodel\u001b[0m\u001b[0;34m.\u001b[0m\u001b[0mfit\u001b[0m\u001b[0;34m(\u001b[0m\u001b[0mX_train\u001b[0m\u001b[0;34m.\u001b[0m\u001b[0mflatten\u001b[0m\u001b[0;34m(\u001b[0m\u001b[0;34m)\u001b[0m\u001b[0;34m,\u001b[0m \u001b[0my_train\u001b[0m\u001b[0;34m.\u001b[0m\u001b[0mflatten\u001b[0m\u001b[0;34m(\u001b[0m\u001b[0;34m)\u001b[0m\u001b[0;34m)\u001b[0m\u001b[0;34m\u001b[0m\u001b[0;34m\u001b[0m\u001b[0m\n\u001b[0m\u001b[1;32m     24\u001b[0m \u001b[0;34m\u001b[0m\u001b[0m\n\u001b[1;32m     25\u001b[0m \u001b[0;31m# Make predictions\u001b[0m\u001b[0;34m\u001b[0m\u001b[0;34m\u001b[0m\u001b[0m\n",
            "\u001b[0;32m/usr/local/lib/python3.10/dist-packages/sklearn/ensemble/_stacking.py\u001b[0m in \u001b[0;36mfit\u001b[0;34m(self, X, y, sample_weight)\u001b[0m\n\u001b[1;32m    956\u001b[0m         \"\"\"\n\u001b[1;32m    957\u001b[0m         \u001b[0my\u001b[0m \u001b[0;34m=\u001b[0m \u001b[0mcolumn_or_1d\u001b[0m\u001b[0;34m(\u001b[0m\u001b[0my\u001b[0m\u001b[0;34m,\u001b[0m \u001b[0mwarn\u001b[0m\u001b[0;34m=\u001b[0m\u001b[0;32mTrue\u001b[0m\u001b[0;34m)\u001b[0m\u001b[0;34m\u001b[0m\u001b[0;34m\u001b[0m\u001b[0m\n\u001b[0;32m--> 958\u001b[0;31m         \u001b[0;32mreturn\u001b[0m \u001b[0msuper\u001b[0m\u001b[0;34m(\u001b[0m\u001b[0;34m)\u001b[0m\u001b[0;34m.\u001b[0m\u001b[0mfit\u001b[0m\u001b[0;34m(\u001b[0m\u001b[0mX\u001b[0m\u001b[0;34m,\u001b[0m \u001b[0my\u001b[0m\u001b[0;34m,\u001b[0m \u001b[0msample_weight\u001b[0m\u001b[0;34m)\u001b[0m\u001b[0;34m\u001b[0m\u001b[0;34m\u001b[0m\u001b[0m\n\u001b[0m\u001b[1;32m    959\u001b[0m \u001b[0;34m\u001b[0m\u001b[0m\n\u001b[1;32m    960\u001b[0m     \u001b[0;32mdef\u001b[0m \u001b[0mtransform\u001b[0m\u001b[0;34m(\u001b[0m\u001b[0mself\u001b[0m\u001b[0;34m,\u001b[0m \u001b[0mX\u001b[0m\u001b[0;34m)\u001b[0m\u001b[0;34m:\u001b[0m\u001b[0;34m\u001b[0m\u001b[0;34m\u001b[0m\u001b[0m\n",
            "\u001b[0;32m/usr/local/lib/python3.10/dist-packages/sklearn/ensemble/_stacking.py\u001b[0m in \u001b[0;36mfit\u001b[0;34m(self, X, y, sample_weight)\u001b[0m\n\u001b[1;32m    207\u001b[0m             \u001b[0;31m# base estimators will be used in transform, predict, and\u001b[0m\u001b[0;34m\u001b[0m\u001b[0;34m\u001b[0m\u001b[0m\n\u001b[1;32m    208\u001b[0m             \u001b[0;31m# predict_proba. They are exposed publicly.\u001b[0m\u001b[0;34m\u001b[0m\u001b[0;34m\u001b[0m\u001b[0m\n\u001b[0;32m--> 209\u001b[0;31m             self.estimators_ = Parallel(n_jobs=self.n_jobs)(\n\u001b[0m\u001b[1;32m    210\u001b[0m                 \u001b[0mdelayed\u001b[0m\u001b[0;34m(\u001b[0m\u001b[0m_fit_single_estimator\u001b[0m\u001b[0;34m)\u001b[0m\u001b[0;34m(\u001b[0m\u001b[0mclone\u001b[0m\u001b[0;34m(\u001b[0m\u001b[0mest\u001b[0m\u001b[0;34m)\u001b[0m\u001b[0;34m,\u001b[0m \u001b[0mX\u001b[0m\u001b[0;34m,\u001b[0m \u001b[0my\u001b[0m\u001b[0;34m,\u001b[0m \u001b[0msample_weight\u001b[0m\u001b[0;34m)\u001b[0m\u001b[0;34m\u001b[0m\u001b[0;34m\u001b[0m\u001b[0m\n\u001b[1;32m    211\u001b[0m                 \u001b[0;32mfor\u001b[0m \u001b[0mest\u001b[0m \u001b[0;32min\u001b[0m \u001b[0mall_estimators\u001b[0m\u001b[0;34m\u001b[0m\u001b[0;34m\u001b[0m\u001b[0m\n",
            "\u001b[0;32m/usr/local/lib/python3.10/dist-packages/sklearn/utils/parallel.py\u001b[0m in \u001b[0;36m__call__\u001b[0;34m(self, iterable)\u001b[0m\n\u001b[1;32m     61\u001b[0m             \u001b[0;32mfor\u001b[0m \u001b[0mdelayed_func\u001b[0m\u001b[0;34m,\u001b[0m \u001b[0margs\u001b[0m\u001b[0;34m,\u001b[0m \u001b[0mkwargs\u001b[0m \u001b[0;32min\u001b[0m \u001b[0miterable\u001b[0m\u001b[0;34m\u001b[0m\u001b[0;34m\u001b[0m\u001b[0m\n\u001b[1;32m     62\u001b[0m         )\n\u001b[0;32m---> 63\u001b[0;31m         \u001b[0;32mreturn\u001b[0m \u001b[0msuper\u001b[0m\u001b[0;34m(\u001b[0m\u001b[0;34m)\u001b[0m\u001b[0;34m.\u001b[0m\u001b[0m__call__\u001b[0m\u001b[0;34m(\u001b[0m\u001b[0miterable_with_config\u001b[0m\u001b[0;34m)\u001b[0m\u001b[0;34m\u001b[0m\u001b[0;34m\u001b[0m\u001b[0m\n\u001b[0m\u001b[1;32m     64\u001b[0m \u001b[0;34m\u001b[0m\u001b[0m\n\u001b[1;32m     65\u001b[0m \u001b[0;34m\u001b[0m\u001b[0m\n",
            "\u001b[0;32m/usr/local/lib/python3.10/dist-packages/joblib/parallel.py\u001b[0m in \u001b[0;36m__call__\u001b[0;34m(self, iterable)\u001b[0m\n\u001b[1;32m   1916\u001b[0m             \u001b[0moutput\u001b[0m \u001b[0;34m=\u001b[0m \u001b[0mself\u001b[0m\u001b[0;34m.\u001b[0m\u001b[0m_get_sequential_output\u001b[0m\u001b[0;34m(\u001b[0m\u001b[0miterable\u001b[0m\u001b[0;34m)\u001b[0m\u001b[0;34m\u001b[0m\u001b[0;34m\u001b[0m\u001b[0m\n\u001b[1;32m   1917\u001b[0m             \u001b[0mnext\u001b[0m\u001b[0;34m(\u001b[0m\u001b[0moutput\u001b[0m\u001b[0;34m)\u001b[0m\u001b[0;34m\u001b[0m\u001b[0;34m\u001b[0m\u001b[0m\n\u001b[0;32m-> 1918\u001b[0;31m             \u001b[0;32mreturn\u001b[0m \u001b[0moutput\u001b[0m \u001b[0;32mif\u001b[0m \u001b[0mself\u001b[0m\u001b[0;34m.\u001b[0m\u001b[0mreturn_generator\u001b[0m \u001b[0;32melse\u001b[0m \u001b[0mlist\u001b[0m\u001b[0;34m(\u001b[0m\u001b[0moutput\u001b[0m\u001b[0;34m)\u001b[0m\u001b[0;34m\u001b[0m\u001b[0;34m\u001b[0m\u001b[0m\n\u001b[0m\u001b[1;32m   1919\u001b[0m \u001b[0;34m\u001b[0m\u001b[0m\n\u001b[1;32m   1920\u001b[0m         \u001b[0;31m# Let's create an ID that uniquely identifies the current call. If the\u001b[0m\u001b[0;34m\u001b[0m\u001b[0;34m\u001b[0m\u001b[0m\n",
            "\u001b[0;32m/usr/local/lib/python3.10/dist-packages/joblib/parallel.py\u001b[0m in \u001b[0;36m_get_sequential_output\u001b[0;34m(self, iterable)\u001b[0m\n\u001b[1;32m   1845\u001b[0m                 \u001b[0mself\u001b[0m\u001b[0;34m.\u001b[0m\u001b[0mn_dispatched_batches\u001b[0m \u001b[0;34m+=\u001b[0m \u001b[0;36m1\u001b[0m\u001b[0;34m\u001b[0m\u001b[0;34m\u001b[0m\u001b[0m\n\u001b[1;32m   1846\u001b[0m                 \u001b[0mself\u001b[0m\u001b[0;34m.\u001b[0m\u001b[0mn_dispatched_tasks\u001b[0m \u001b[0;34m+=\u001b[0m \u001b[0;36m1\u001b[0m\u001b[0;34m\u001b[0m\u001b[0;34m\u001b[0m\u001b[0m\n\u001b[0;32m-> 1847\u001b[0;31m                 \u001b[0mres\u001b[0m \u001b[0;34m=\u001b[0m \u001b[0mfunc\u001b[0m\u001b[0;34m(\u001b[0m\u001b[0;34m*\u001b[0m\u001b[0margs\u001b[0m\u001b[0;34m,\u001b[0m \u001b[0;34m**\u001b[0m\u001b[0mkwargs\u001b[0m\u001b[0;34m)\u001b[0m\u001b[0;34m\u001b[0m\u001b[0;34m\u001b[0m\u001b[0m\n\u001b[0m\u001b[1;32m   1848\u001b[0m                 \u001b[0mself\u001b[0m\u001b[0;34m.\u001b[0m\u001b[0mn_completed_tasks\u001b[0m \u001b[0;34m+=\u001b[0m \u001b[0;36m1\u001b[0m\u001b[0;34m\u001b[0m\u001b[0;34m\u001b[0m\u001b[0m\n\u001b[1;32m   1849\u001b[0m                 \u001b[0mself\u001b[0m\u001b[0;34m.\u001b[0m\u001b[0mprint_progress\u001b[0m\u001b[0;34m(\u001b[0m\u001b[0;34m)\u001b[0m\u001b[0;34m\u001b[0m\u001b[0;34m\u001b[0m\u001b[0m\n",
            "\u001b[0;32m/usr/local/lib/python3.10/dist-packages/sklearn/utils/parallel.py\u001b[0m in \u001b[0;36m__call__\u001b[0;34m(self, *args, **kwargs)\u001b[0m\n\u001b[1;32m    121\u001b[0m             \u001b[0mconfig\u001b[0m \u001b[0;34m=\u001b[0m \u001b[0;34m{\u001b[0m\u001b[0;34m}\u001b[0m\u001b[0;34m\u001b[0m\u001b[0;34m\u001b[0m\u001b[0m\n\u001b[1;32m    122\u001b[0m         \u001b[0;32mwith\u001b[0m \u001b[0mconfig_context\u001b[0m\u001b[0;34m(\u001b[0m\u001b[0;34m**\u001b[0m\u001b[0mconfig\u001b[0m\u001b[0;34m)\u001b[0m\u001b[0;34m:\u001b[0m\u001b[0;34m\u001b[0m\u001b[0;34m\u001b[0m\u001b[0m\n\u001b[0;32m--> 123\u001b[0;31m             \u001b[0;32mreturn\u001b[0m \u001b[0mself\u001b[0m\u001b[0;34m.\u001b[0m\u001b[0mfunction\u001b[0m\u001b[0;34m(\u001b[0m\u001b[0;34m*\u001b[0m\u001b[0margs\u001b[0m\u001b[0;34m,\u001b[0m \u001b[0;34m**\u001b[0m\u001b[0mkwargs\u001b[0m\u001b[0;34m)\u001b[0m\u001b[0;34m\u001b[0m\u001b[0;34m\u001b[0m\u001b[0m\n\u001b[0m",
            "\u001b[0;32m/usr/local/lib/python3.10/dist-packages/sklearn/ensemble/_base.py\u001b[0m in \u001b[0;36m_fit_single_estimator\u001b[0;34m(estimator, X, y, sample_weight, message_clsname, message)\u001b[0m\n\u001b[1;32m     44\u001b[0m     \u001b[0;32melse\u001b[0m\u001b[0;34m:\u001b[0m\u001b[0;34m\u001b[0m\u001b[0;34m\u001b[0m\u001b[0m\n\u001b[1;32m     45\u001b[0m         \u001b[0;32mwith\u001b[0m \u001b[0m_print_elapsed_time\u001b[0m\u001b[0;34m(\u001b[0m\u001b[0mmessage_clsname\u001b[0m\u001b[0;34m,\u001b[0m \u001b[0mmessage\u001b[0m\u001b[0;34m)\u001b[0m\u001b[0;34m:\u001b[0m\u001b[0;34m\u001b[0m\u001b[0;34m\u001b[0m\u001b[0m\n\u001b[0;32m---> 46\u001b[0;31m             \u001b[0mestimator\u001b[0m\u001b[0;34m.\u001b[0m\u001b[0mfit\u001b[0m\u001b[0;34m(\u001b[0m\u001b[0mX\u001b[0m\u001b[0;34m,\u001b[0m \u001b[0my\u001b[0m\u001b[0;34m)\u001b[0m\u001b[0;34m\u001b[0m\u001b[0;34m\u001b[0m\u001b[0m\n\u001b[0m\u001b[1;32m     47\u001b[0m     \u001b[0;32mreturn\u001b[0m \u001b[0mestimator\u001b[0m\u001b[0;34m\u001b[0m\u001b[0;34m\u001b[0m\u001b[0m\n\u001b[1;32m     48\u001b[0m \u001b[0;34m\u001b[0m\u001b[0m\n",
            "\u001b[0;32m/usr/local/lib/python3.10/dist-packages/sklearn/linear_model/_base.py\u001b[0m in \u001b[0;36mfit\u001b[0;34m(self, X, y, sample_weight)\u001b[0m\n\u001b[1;32m    646\u001b[0m         \u001b[0maccept_sparse\u001b[0m \u001b[0;34m=\u001b[0m \u001b[0;32mFalse\u001b[0m \u001b[0;32mif\u001b[0m \u001b[0mself\u001b[0m\u001b[0;34m.\u001b[0m\u001b[0mpositive\u001b[0m \u001b[0;32melse\u001b[0m \u001b[0;34m[\u001b[0m\u001b[0;34m\"csr\"\u001b[0m\u001b[0;34m,\u001b[0m \u001b[0;34m\"csc\"\u001b[0m\u001b[0;34m,\u001b[0m \u001b[0;34m\"coo\"\u001b[0m\u001b[0;34m]\u001b[0m\u001b[0;34m\u001b[0m\u001b[0;34m\u001b[0m\u001b[0m\n\u001b[1;32m    647\u001b[0m \u001b[0;34m\u001b[0m\u001b[0m\n\u001b[0;32m--> 648\u001b[0;31m         X, y = self._validate_data(\n\u001b[0m\u001b[1;32m    649\u001b[0m             \u001b[0mX\u001b[0m\u001b[0;34m,\u001b[0m \u001b[0my\u001b[0m\u001b[0;34m,\u001b[0m \u001b[0maccept_sparse\u001b[0m\u001b[0;34m=\u001b[0m\u001b[0maccept_sparse\u001b[0m\u001b[0;34m,\u001b[0m \u001b[0my_numeric\u001b[0m\u001b[0;34m=\u001b[0m\u001b[0;32mTrue\u001b[0m\u001b[0;34m,\u001b[0m \u001b[0mmulti_output\u001b[0m\u001b[0;34m=\u001b[0m\u001b[0;32mTrue\u001b[0m\u001b[0;34m\u001b[0m\u001b[0;34m\u001b[0m\u001b[0m\n\u001b[1;32m    650\u001b[0m         )\n",
            "\u001b[0;32m/usr/local/lib/python3.10/dist-packages/sklearn/base.py\u001b[0m in \u001b[0;36m_validate_data\u001b[0;34m(self, X, y, reset, validate_separately, **check_params)\u001b[0m\n\u001b[1;32m    582\u001b[0m                 \u001b[0my\u001b[0m \u001b[0;34m=\u001b[0m \u001b[0mcheck_array\u001b[0m\u001b[0;34m(\u001b[0m\u001b[0my\u001b[0m\u001b[0;34m,\u001b[0m \u001b[0minput_name\u001b[0m\u001b[0;34m=\u001b[0m\u001b[0;34m\"y\"\u001b[0m\u001b[0;34m,\u001b[0m \u001b[0;34m**\u001b[0m\u001b[0mcheck_y_params\u001b[0m\u001b[0;34m)\u001b[0m\u001b[0;34m\u001b[0m\u001b[0;34m\u001b[0m\u001b[0m\n\u001b[1;32m    583\u001b[0m             \u001b[0;32melse\u001b[0m\u001b[0;34m:\u001b[0m\u001b[0;34m\u001b[0m\u001b[0;34m\u001b[0m\u001b[0m\n\u001b[0;32m--> 584\u001b[0;31m                 \u001b[0mX\u001b[0m\u001b[0;34m,\u001b[0m \u001b[0my\u001b[0m \u001b[0;34m=\u001b[0m \u001b[0mcheck_X_y\u001b[0m\u001b[0;34m(\u001b[0m\u001b[0mX\u001b[0m\u001b[0;34m,\u001b[0m \u001b[0my\u001b[0m\u001b[0;34m,\u001b[0m \u001b[0;34m**\u001b[0m\u001b[0mcheck_params\u001b[0m\u001b[0;34m)\u001b[0m\u001b[0;34m\u001b[0m\u001b[0;34m\u001b[0m\u001b[0m\n\u001b[0m\u001b[1;32m    585\u001b[0m             \u001b[0mout\u001b[0m \u001b[0;34m=\u001b[0m \u001b[0mX\u001b[0m\u001b[0;34m,\u001b[0m \u001b[0my\u001b[0m\u001b[0;34m\u001b[0m\u001b[0;34m\u001b[0m\u001b[0m\n\u001b[1;32m    586\u001b[0m \u001b[0;34m\u001b[0m\u001b[0m\n",
            "\u001b[0;32m/usr/local/lib/python3.10/dist-packages/sklearn/utils/validation.py\u001b[0m in \u001b[0;36mcheck_X_y\u001b[0;34m(X, y, accept_sparse, accept_large_sparse, dtype, order, copy, force_all_finite, ensure_2d, allow_nd, multi_output, ensure_min_samples, ensure_min_features, y_numeric, estimator)\u001b[0m\n\u001b[1;32m   1104\u001b[0m         )\n\u001b[1;32m   1105\u001b[0m \u001b[0;34m\u001b[0m\u001b[0m\n\u001b[0;32m-> 1106\u001b[0;31m     X = check_array(\n\u001b[0m\u001b[1;32m   1107\u001b[0m         \u001b[0mX\u001b[0m\u001b[0;34m,\u001b[0m\u001b[0;34m\u001b[0m\u001b[0;34m\u001b[0m\u001b[0m\n\u001b[1;32m   1108\u001b[0m         \u001b[0maccept_sparse\u001b[0m\u001b[0;34m=\u001b[0m\u001b[0maccept_sparse\u001b[0m\u001b[0;34m,\u001b[0m\u001b[0;34m\u001b[0m\u001b[0;34m\u001b[0m\u001b[0m\n",
            "\u001b[0;32m/usr/local/lib/python3.10/dist-packages/sklearn/utils/validation.py\u001b[0m in \u001b[0;36mcheck_array\u001b[0;34m(array, accept_sparse, accept_large_sparse, dtype, order, copy, force_all_finite, ensure_2d, allow_nd, ensure_min_samples, ensure_min_features, estimator, input_name)\u001b[0m\n\u001b[1;32m    900\u001b[0m             \u001b[0;31m# If input is 1D raise error\u001b[0m\u001b[0;34m\u001b[0m\u001b[0;34m\u001b[0m\u001b[0m\n\u001b[1;32m    901\u001b[0m             \u001b[0;32mif\u001b[0m \u001b[0marray\u001b[0m\u001b[0;34m.\u001b[0m\u001b[0mndim\u001b[0m \u001b[0;34m==\u001b[0m \u001b[0;36m1\u001b[0m\u001b[0;34m:\u001b[0m\u001b[0;34m\u001b[0m\u001b[0;34m\u001b[0m\u001b[0m\n\u001b[0;32m--> 902\u001b[0;31m                 raise ValueError(\n\u001b[0m\u001b[1;32m    903\u001b[0m                     \u001b[0;34m\"Expected 2D array, got 1D array instead:\\narray={}.\\n\"\u001b[0m\u001b[0;34m\u001b[0m\u001b[0;34m\u001b[0m\u001b[0m\n\u001b[1;32m    904\u001b[0m                     \u001b[0;34m\"Reshape your data either using array.reshape(-1, 1) if \"\u001b[0m\u001b[0;34m\u001b[0m\u001b[0;34m\u001b[0m\u001b[0m\n",
            "\u001b[0;31mValueError\u001b[0m: Expected 2D array, got 1D array instead:\narray=[-1.24465196 -1.61516423 -1.18124567 ...  1.64904362  1.58756233\n  1.43095812].\nReshape your data either using array.reshape(-1, 1) if your data has a single feature or array.reshape(1, -1) if it contains a single sample."
          ]
        }
      ],
      "source": [
        "# # Initialize and train the Stacking model\n",
        "# model = StackingRegressor(estimators=base_models, final_estimator=LinearRegression())\n",
        "# model.fit(X_train.flatten(), y_train.flatten())\n",
        "\n",
        "# # Make predictions\n",
        "# predictions = model.predict(X_test)"
      ]
    },
    {
      "cell_type": "code",
      "execution_count": null,
      "metadata": {
        "id": "o6KatsZ9xLA4"
      },
      "outputs": [],
      "source": []
    }
  ],
  "metadata": {
    "accelerator": "TPU",
    "colab": {
      "gpuType": "V28",
      "provenance": []
    },
    "kernelspec": {
      "display_name": "Python 3",
      "name": "python3"
    },
    "language_info": {
      "codemirror_mode": {
        "name": "ipython",
        "version": 3
      },
      "file_extension": ".py",
      "mimetype": "text/x-python",
      "name": "python",
      "nbconvert_exporter": "python",
      "pygments_lexer": "ipython3",
      "version": "3.11.3"
    }
  },
  "nbformat": 4,
  "nbformat_minor": 0
}
