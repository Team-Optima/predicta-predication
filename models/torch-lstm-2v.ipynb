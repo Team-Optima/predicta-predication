{
  "cells": [
    {
      "cell_type": "code",
      "execution_count": 1,
      "metadata": {
        "id": "Ern2ZiHNW3mo"
      },
      "outputs": [],
      "source": [
        "import pandas as pd\n",
        "import numpy as np\n",
        "from sklearn.preprocessing import StandardScaler\n",
        "from sklearn.model_selection import train_test_split\n",
        "import torch\n",
        "from torch.utils.data import DataLoader, TensorDataset"
      ]
    },
    {
      "cell_type": "code",
      "execution_count": 2,
      "metadata": {
        "colab": {
          "base_uri": "https://localhost:8080/"
        },
        "id": "N0WYvTHBaqk7",
        "outputId": "41105c5c-6e6d-4710-c62c-3f530bbdb501"
      },
      "outputs": [],
      "source": [
        "# from google.colab import drive\n",
        "# # drive.mount('/content/drive')\n",
        "# drive.mount(\"/content/drive\", force_remount=True)"
      ]
    },
    {
      "cell_type": "code",
      "execution_count": 3,
      "metadata": {
        "id": "Dk47Zau-W3mq"
      },
      "outputs": [],
      "source": [
        "# data = pd.read_csv('drive/MyDrive/Code/derived_data_csv/new_features_added_filled_nearest_neigb_min.csv')\n",
        "data = pd.read_csv('./../derived_data_csv/new_features_added_filled_nearest_neigb_min.csv')\n"
      ]
    },
    {
      "cell_type": "code",
      "execution_count": 4,
      "metadata": {
        "colab": {
          "base_uri": "https://localhost:8080/"
        },
        "id": "_Apk-HwBW3mr",
        "outputId": "97fde249-c012-4842-ed22-27220484a57b"
      },
      "outputs": [
        {
          "data": {
            "text/plain": [
              "Index(['city_id', 'date', 'avg_temp_c', 'min_temp_c', 'max_temp_c',\n",
              "       'avg_wind_dir_deg', 'avg_wind_speed_kmh', 'city', 'day_of_week',\n",
              "       'day_of_year', 'month', 'temp_range'],\n",
              "      dtype='object')"
            ]
          },
          "execution_count": 4,
          "metadata": {},
          "output_type": "execute_result"
        }
      ],
      "source": [
        "data.columns"
      ]
    },
    {
      "cell_type": "code",
      "execution_count": 5,
      "metadata": {
        "id": "EnFMZ5ZLW3ms"
      },
      "outputs": [],
      "source": [
        "# Python\n",
        "selected_columns_to_exclude = ['date', 'city_id',\n",
        "                               'snow_depth_mm', 'day_of_week']\n",
        "features = [col for col in data.columns if col not in selected_columns_to_exclude]\n",
        "\n",
        "target = 'avg_temp_c'\n",
        "\n",
        "# Scaling features\n",
        "scaler = StandardScaler()\n",
        "# Python\n",
        "numerical_features = data.select_dtypes(include=[np.number]).columns.tolist()\n",
        "data[numerical_features] = scaler.fit_transform(data[numerical_features])\n",
        "\n",
        "# Save the mean and standard deviation for avg_temp_c\n",
        "avg_temp_c_index = numerical_features.index('avg_temp_c')\n",
        "avg_temp_c_mean = scaler.mean_[avg_temp_c_index]\n",
        "avg_temp_c_std = scaler.scale_[avg_temp_c_index]"
      ]
    },
    {
      "cell_type": "code",
      "execution_count": 6,
      "metadata": {
        "colab": {
          "base_uri": "https://localhost:8080/"
        },
        "id": "bMKDjT8rKows",
        "outputId": "6d443040-1037-408e-da23-04b75f3550cc"
      },
      "outputs": [
        {
          "name": "stdout",
          "output_type": "stream",
          "text": [
            "Number of records: 182338\n",
            "Number of records with at least one null value: 0\n"
          ]
        }
      ],
      "source": [
        "num_rows_with_nulls = data.isnull().any(axis=1).sum()\n",
        "print(f\"Number of records: {len(data)}\")\n",
        "print(f\"Number of records with at least one null value: {num_rows_with_nulls}\")"
      ]
    },
    {
      "cell_type": "code",
      "execution_count": 7,
      "metadata": {
        "colab": {
          "base_uri": "https://localhost:8080/",
          "height": 313
        },
        "id": "DaIIBZhWW3mt",
        "outputId": "27c0c0cb-d5eb-4803-d230-7e8af5e0479a"
      },
      "outputs": [
        {
          "data": {
            "text/html": [
              "<div>\n",
              "<style scoped>\n",
              "    .dataframe tbody tr th:only-of-type {\n",
              "        vertical-align: middle;\n",
              "    }\n",
              "\n",
              "    .dataframe tbody tr th {\n",
              "        vertical-align: top;\n",
              "    }\n",
              "\n",
              "    .dataframe thead th {\n",
              "        text-align: right;\n",
              "    }\n",
              "</style>\n",
              "<table border=\"1\" class=\"dataframe\">\n",
              "  <thead>\n",
              "    <tr style=\"text-align: right;\">\n",
              "      <th></th>\n",
              "      <th>city_id</th>\n",
              "      <th>date</th>\n",
              "      <th>avg_temp_c</th>\n",
              "      <th>min_temp_c</th>\n",
              "      <th>max_temp_c</th>\n",
              "      <th>avg_wind_dir_deg</th>\n",
              "      <th>avg_wind_speed_kmh</th>\n",
              "      <th>city</th>\n",
              "      <th>day_of_week</th>\n",
              "      <th>day_of_year</th>\n",
              "      <th>month</th>\n",
              "      <th>temp_range</th>\n",
              "    </tr>\n",
              "  </thead>\n",
              "  <tbody>\n",
              "    <tr>\n",
              "      <th>0</th>\n",
              "      <td>C001</td>\n",
              "      <td>2014-01-01</td>\n",
              "      <td>-1.244652</td>\n",
              "      <td>-1.615164</td>\n",
              "      <td>-1.181246</td>\n",
              "      <td>-0.084152</td>\n",
              "      <td>-0.825328</td>\n",
              "      <td>-1.729156</td>\n",
              "      <td>-0.500611</td>\n",
              "      <td>-1.727467</td>\n",
              "      <td>-1.601858</td>\n",
              "      <td>0.840131</td>\n",
              "    </tr>\n",
              "    <tr>\n",
              "      <th>1</th>\n",
              "      <td>C001</td>\n",
              "      <td>2014-01-02</td>\n",
              "      <td>-0.974157</td>\n",
              "      <td>-0.843364</td>\n",
              "      <td>-1.017647</td>\n",
              "      <td>-0.212386</td>\n",
              "      <td>-0.202979</td>\n",
              "      <td>-1.729156</td>\n",
              "      <td>-0.000590</td>\n",
              "      <td>-1.717983</td>\n",
              "      <td>-1.601858</td>\n",
              "      <td>-0.472820</td>\n",
              "    </tr>\n",
              "    <tr>\n",
              "      <th>2</th>\n",
              "      <td>C001</td>\n",
              "      <td>2014-01-03</td>\n",
              "      <td>-1.144469</td>\n",
              "      <td>-1.284393</td>\n",
              "      <td>-0.950283</td>\n",
              "      <td>0.157519</td>\n",
              "      <td>-0.890838</td>\n",
              "      <td>-1.729156</td>\n",
              "      <td>0.499431</td>\n",
              "      <td>-1.708498</td>\n",
              "      <td>-1.601858</td>\n",
              "      <td>0.643188</td>\n",
              "    </tr>\n",
              "    <tr>\n",
              "      <th>3</th>\n",
              "      <td>C001</td>\n",
              "      <td>2014-01-04</td>\n",
              "      <td>-1.144469</td>\n",
              "      <td>-1.083925</td>\n",
              "      <td>-1.017647</td>\n",
              "      <td>1.129135</td>\n",
              "      <td>0.009929</td>\n",
              "      <td>-1.729156</td>\n",
              "      <td>0.999452</td>\n",
              "      <td>-1.699014</td>\n",
              "      <td>-1.601858</td>\n",
              "      <td>0.052360</td>\n",
              "    </tr>\n",
              "    <tr>\n",
              "      <th>4</th>\n",
              "      <td>C001</td>\n",
              "      <td>2014-01-05</td>\n",
              "      <td>-1.044286</td>\n",
              "      <td>-1.424720</td>\n",
              "      <td>-0.671204</td>\n",
              "      <td>0.225335</td>\n",
              "      <td>-1.021859</td>\n",
              "      <td>-1.729156</td>\n",
              "      <td>1.499473</td>\n",
              "      <td>-1.689529</td>\n",
              "      <td>-1.601858</td>\n",
              "      <td>1.584136</td>\n",
              "    </tr>\n",
              "  </tbody>\n",
              "</table>\n",
              "</div>"
            ],
            "text/plain": [
              "  city_id        date  avg_temp_c  min_temp_c  max_temp_c  avg_wind_dir_deg  \\\n",
              "0    C001  2014-01-01   -1.244652   -1.615164   -1.181246         -0.084152   \n",
              "1    C001  2014-01-02   -0.974157   -0.843364   -1.017647         -0.212386   \n",
              "2    C001  2014-01-03   -1.144469   -1.284393   -0.950283          0.157519   \n",
              "3    C001  2014-01-04   -1.144469   -1.083925   -1.017647          1.129135   \n",
              "4    C001  2014-01-05   -1.044286   -1.424720   -0.671204          0.225335   \n",
              "\n",
              "   avg_wind_speed_kmh      city  day_of_week  day_of_year     month  \\\n",
              "0           -0.825328 -1.729156    -0.500611    -1.727467 -1.601858   \n",
              "1           -0.202979 -1.729156    -0.000590    -1.717983 -1.601858   \n",
              "2           -0.890838 -1.729156     0.499431    -1.708498 -1.601858   \n",
              "3            0.009929 -1.729156     0.999452    -1.699014 -1.601858   \n",
              "4           -1.021859 -1.729156     1.499473    -1.689529 -1.601858   \n",
              "\n",
              "   temp_range  \n",
              "0    0.840131  \n",
              "1   -0.472820  \n",
              "2    0.643188  \n",
              "3    0.052360  \n",
              "4    1.584136  "
            ]
          },
          "execution_count": 7,
          "metadata": {},
          "output_type": "execute_result"
        }
      ],
      "source": [
        "# print(data[features].head())\n",
        "\n",
        "# data_filled = data.fillna(-1)\n",
        "data.head()"
      ]
    },
    {
      "cell_type": "code",
      "execution_count": 8,
      "metadata": {},
      "outputs": [],
      "source": [
        "city_ids = data['city_id'].unique().tolist()"
      ]
    },
    {
      "cell_type": "code",
      "execution_count": 9,
      "metadata": {
        "id": "bmpLwNTnW3mt"
      },
      "outputs": [],
      "source": [
        "# Create sequences for each city\n",
        "def create_sequences(df, features, target, seq_length=30, pred_length=7):\n",
        "    X = []\n",
        "    y = []\n",
        "    for i in range(len(df) - seq_length - pred_length + 1):\n",
        "        X.append(df[features].iloc[i:i+seq_length].values)\n",
        "        y.append(df[target].iloc[i+seq_length:i+seq_length+pred_length].values)\n",
        "    return np.array(X), np.array(y)\n",
        "\n",
        "\n",
        "# Split data by city and create sequences\n",
        "city_data = data.groupby('city_id')\n",
        "seq_length=30\n",
        "X_list = []\n",
        "y_list = []\n",
        "last_dates = []\n",
        "X_list_final = []\n",
        "for i, (_, group) in enumerate(city_data):\n",
        "    if i == 5:\n",
        "        break\n",
        "    X, y = create_sequences(group, features, target, seq_length=seq_length)\n",
        "    X_list.append(X)\n",
        "    y_list.append(y)\n",
        "    X_last = group[features].iloc[-seq_length:].values\n",
        "    X_list_final.append(X_last)"
      ]
    },
    {
      "cell_type": "code",
      "execution_count": 10,
      "metadata": {
        "colab": {
          "base_uri": "https://localhost:8080/"
        },
        "id": "--1L3KiSW3mt",
        "outputId": "9db544d9-34a6-4eb9-fc0f-77424897a0a7"
      },
      "outputs": [
        {
          "name": "stdout",
          "output_type": "stream",
          "text": [
            "5\n",
            "5\n",
            "1790\n",
            "1790\n",
            "[1790, 1767, 1787, 1790, 1790]\n",
            "30\n"
          ]
        }
      ],
      "source": [
        "print(len(X_list))\n",
        "print(len(y_list))\n",
        "print(len(X_list[0]))\n",
        "print(len(y_list[0]))\n",
        "lengths = [len(element) for element in X_list]\n",
        "print(lengths)\n",
        "print(len(X_list[0][0]))"
      ]
    },
    {
      "cell_type": "code",
      "execution_count": 11,
      "metadata": {
        "id": "PnTFuL0bW3mu"
      },
      "outputs": [],
      "source": [
        "import torch\n",
        "import torch.nn as nn\n",
        "import torch.optim as optim\n",
        "from torch.utils.data import Dataset, DataLoader, random_split\n",
        "from matplotlib import pyplot as plt"
      ]
    },
    {
      "cell_type": "code",
      "execution_count": 12,
      "metadata": {},
      "outputs": [],
      "source": [
        "class TimeSeriesDataset(Dataset):\n",
        "    def __init__(self, X, y):\n",
        "        self.X = torch.tensor(X, dtype=torch.float32)\n",
        "        self.y = torch.tensor(y, dtype=torch.float32)\n",
        "\n",
        "    def __len__(self):\n",
        "        return len(self.X)\n",
        "\n",
        "    def __getitem__(self, idx):\n",
        "        return self.X[idx], self.y[idx]"
      ]
    },
    {
      "cell_type": "code",
      "execution_count": 13,
      "metadata": {},
      "outputs": [],
      "source": [
        "train_ratio = 0.8\n",
        "batch_size = 64\n",
        "\n",
        "dataloaders_train = []\n",
        "dataloaders_test = []\n",
        "\n",
        "for X, y in zip(X_list, y_list):\n",
        "    dataset = TimeSeriesDataset(X, y)\n",
        "    train_size = int(train_ratio * len(dataset))\n",
        "    test_size = len(dataset) - train_size\n",
        "    train_dataset, test_dataset = random_split(\n",
        "        dataset, [train_size, test_size])\n",
        "\n",
        "    train_loader = DataLoader(\n",
        "        train_dataset, batch_size=batch_size, shuffle=True)\n",
        "    test_loader = DataLoader(\n",
        "        test_dataset, batch_size=batch_size, shuffle=False)\n",
        "\n",
        "    dataloaders_train.append(train_loader)\n",
        "    dataloaders_test.append(test_loader)"
      ]
    },
    {
      "cell_type": "code",
      "execution_count": 14,
      "metadata": {
        "colab": {
          "base_uri": "https://localhost:8080/"
        },
        "id": "-NBBTxb6W3mv",
        "outputId": "30c99bdf-52ba-4e55-a5c5-eb880d49e6c4"
      },
      "outputs": [],
      "source": [
        "# # Convert to PyTorch tensors\n",
        "# X_predict_tensor = torch.tensor(X_list_final, dtype=torch.float32).to(device)\n",
        "# predict_dataset = TensorDataset(X_predict_tensor)\n",
        "# predict_loader = DataLoader(predict_dataset, batch_size=1, shuffle=False)"
      ]
    },
    {
      "cell_type": "code",
      "execution_count": 15,
      "metadata": {
        "colab": {
          "base_uri": "https://localhost:8080/"
        },
        "id": "G1yVgEQcW3mv",
        "outputId": "a5aff27b-519c-4164-becf-b8963fdd53b1"
      },
      "outputs": [
        {
          "name": "stdout",
          "output_type": "stream",
          "text": [
            "Train Inputs Shape: torch.Size([64, 30, 9]), Train Targets Shape: torch.Size([64, 7])\n",
            "Test Inputs Shape: torch.Size([64, 30, 9]), Test Targets Shape: torch.Size([64, 7])\n"
          ]
        }
      ],
      "source": [
        "# For the train loader\n",
        "for i, (inputs, targets) in enumerate(train_loader):\n",
        "    if i == 1:\n",
        "        break\n",
        "    print(f'Train Inputs Shape: {inputs.shape}, Train Targets Shape: {targets.shape}')\n",
        "# For the test loader\n",
        "for i, (inputs, targets) in enumerate(test_loader):\n",
        "    if i == 1:\n",
        "        break\n",
        "    print(f'Test Inputs Shape: {inputs.shape}, Test Targets Shape: {targets.shape}')\n",
        "# for i, (inputs,) in enumerate(predict_loader):\n",
        "#     if i == 1:\n",
        "#         break\n",
        "#     print(f'Predict Inputs Shape: {inputs.shape}')"
      ]
    },
    {
      "cell_type": "code",
      "execution_count": 16,
      "metadata": {
        "id": "p6ULpEUEW3mw"
      },
      "outputs": [],
      "source": [
        "class LSTMModel(nn.Module):\n",
        "    def __init__(self, input_size, hidden_layer_size, output_size, num_layers, dropout):\n",
        "        super(LSTMModel, self).__init__()\n",
        "        self.hidden_layer_size = hidden_layer_size\n",
        "        self.num_layers = num_layers\n",
        "\n",
        "        self.lstm = nn.LSTM(input_size, hidden_layer_size,\n",
        "                            num_layers=num_layers, dropout=dropout, batch_first=True)\n",
        "        self.dropout = nn.Dropout(dropout)  # Dropout layer before the fully connected layer\n",
        "        self.fc = nn.Linear(hidden_layer_size, output_size)\n",
        "\n",
        "    def forward(self, x):\n",
        "        h0 = torch.zeros(self.num_layers, x.size(0), self.hidden_layer_size).to(x.device)\n",
        "        c0 = torch.zeros(self.num_layers, x.size(0), self.hidden_layer_size).to(x.device)\n",
        "\n",
        "        out, _ = self.lstm(x, (h0, c0))\n",
        "        out = self.dropout(out[:, -1, :])  # Apply dropout to the output of the LSTM layer\n",
        "        out = self.fc(out)\n",
        "        return out"
      ]
    },
    {
      "cell_type": "code",
      "execution_count": 17,
      "metadata": {
        "id": "O2U3rAfbW3mw"
      },
      "outputs": [],
      "source": [
        "def train_model(model, criterion, optimizer, dataloader):\n",
        "    model.train()\n",
        "    total_loss = 0\n",
        "\n",
        "    for data, target in dataloader:\n",
        "        optimizer.zero_grad()\n",
        "        output = model(data)\n",
        "        loss = criterion(output, target)\n",
        "        loss.backward()\n",
        "        # Apply gradient clipping\n",
        "        # torch.nn.utils.clip_grad_norm_(model.parameters(), max_norm=1)\n",
        "        optimizer.step()\n",
        "        total_loss += loss.item()\n",
        "    return total_loss / len(dataloader)"
      ]
    },
    {
      "cell_type": "code",
      "execution_count": 18,
      "metadata": {
        "id": "RhQ7_r69W3mw"
      },
      "outputs": [],
      "source": [
        "def evaluate_model(model, criterion, dataloader):\n",
        "    model.eval()\n",
        "    total_loss = 0\n",
        "\n",
        "    with torch.no_grad():\n",
        "        for data, target in dataloader:\n",
        "            output = model(data)\n",
        "            loss = criterion(output, target)\n",
        "            total_loss += loss.item()\n",
        "\n",
        "    return total_loss / len(dataloader)"
      ]
    },
    {
      "cell_type": "code",
      "execution_count": 19,
      "metadata": {
        "id": "u0-P7fVBW3mw"
      },
      "outputs": [],
      "source": [
        "def model_fit(model, criterion, optimizer, train_dataloader, test_dataloader, num_epochs=25, patience=10, checkpoint=40):\n",
        "    train_losses = []\n",
        "    test_losses = []\n",
        "\n",
        "    best_test_loss = float('inf')\n",
        "    patience_counter = 0\n",
        "\n",
        "    for epoch in range(num_epochs):\n",
        "        train_loss = train_model(\n",
        "            model, criterion, optimizer, train_dataloader)\n",
        "        test_loss = evaluate_model(\n",
        "            model, criterion, test_dataloader)\n",
        "\n",
        "        train_losses.append(train_loss)\n",
        "        test_losses.append(test_loss)\n",
        "\n",
        "        if test_loss < best_test_loss:\n",
        "            best_test_loss = test_loss\n",
        "            patience_counter = 0\n",
        "        else:\n",
        "            patience_counter += 1\n",
        "        if (epoch + 1) % checkpoint == 0:\n",
        "            print(f\"Epoch {epoch+1}/{num_epochs}: Train Loss = {train_loss:.4f}, Test Loss = {test_loss:.4f}\")\n",
        "\n",
        "        if patience_counter >= patience:\n",
        "            print(\"Early stopping triggered\")\n",
        "            break\n",
        "\n",
        "    return model, train_losses, test_losses"
      ]
    },
    {
      "cell_type": "code",
      "execution_count": 20,
      "metadata": {
        "id": "HXuaDH5PW3mx"
      },
      "outputs": [],
      "source": [
        "def plot_losses(train_losses, test_losses, figsize=(6, 3)):\n",
        "    plt.figure(figsize=figsize)\n",
        "    plt.plot(train_losses, label='Train Loss')\n",
        "    plt.plot(test_losses, label='Test Loss')\n",
        "    plt.title('Losses')\n",
        "    plt.xlabel('Epoch')\n",
        "    plt.ylabel('Loss')\n",
        "    plt.legend()\n",
        "    plt.show()"
      ]
    },
    {
      "cell_type": "code",
      "execution_count": 21,
      "metadata": {
        "id": "iv131aYXrVL3"
      },
      "outputs": [],
      "source": [
        "# Define model, loss function, and optimizer\n",
        "input_size = len(features)\n",
        "hidden_layer_size = 64\n",
        "output_size = 7\n",
        "num_layers = 2\n",
        "dropout = 0.5\n",
        "device = torch.device('cuda' if torch.cuda.is_available() else 'cpu')\n",
        "\n",
        "# model = LSTMModel(input_size, hidden_layer_size,\n",
        "#                   output_size, num_layers, dropout).to(device)\n",
        "loss_function = nn.MSELoss()\n",
        "# optimizer = torch.optim.Adam(model.parameters(), lr=0.001, weight_decay=0.0001)"
      ]
    },
    {
      "cell_type": "code",
      "execution_count": 22,
      "metadata": {},
      "outputs": [],
      "source": [
        "from datetime import datetime, timedelta\n",
        "\n",
        "predictions_df = pd.DataFrame(columns=[\"city_id\", \"date\", \"temp\"])\n",
        "predictions_list = []\n",
        "start_date = datetime.strptime(\"2019-01-01\", \"%Y-%m-%d\")"
      ]
    },
    {
      "cell_type": "code",
      "execution_count": 23,
      "metadata": {},
      "outputs": [],
      "source": [
        "all_train_losses = []\n",
        "all_test_losses = []"
      ]
    },
    {
      "cell_type": "code",
      "execution_count": 24,
      "metadata": {},
      "outputs": [
        {
          "name": "stdout",
          "output_type": "stream",
          "text": [
            "Epoch 5/25: Train Loss = 0.0953, Test Loss = 0.0658\n",
            "Epoch 10/25: Train Loss = 0.0835, Test Loss = 0.0623\n",
            "Epoch 15/25: Train Loss = 0.0744, Test Loss = 0.0585\n",
            "Epoch 20/25: Train Loss = 0.0727, Test Loss = 0.0580\n",
            "Epoch 25/25: Train Loss = 0.0736, Test Loss = 0.0569\n",
            "Epoch 5/25: Train Loss = 0.0548, Test Loss = 0.0419\n",
            "Epoch 10/25: Train Loss = 0.0508, Test Loss = 0.0391\n",
            "Epoch 15/25: Train Loss = 0.0465, Test Loss = 0.0410\n",
            "Epoch 20/25: Train Loss = 0.0440, Test Loss = 0.0360\n",
            "Epoch 25/25: Train Loss = 0.0426, Test Loss = 0.0360\n",
            "Epoch 5/25: Train Loss = 0.0284, Test Loss = 0.0071\n",
            "Epoch 10/25: Train Loss = 0.0206, Test Loss = 0.0059\n",
            "Epoch 15/25: Train Loss = 0.0165, Test Loss = 0.0052\n",
            "Epoch 20/25: Train Loss = 0.0156, Test Loss = 0.0058\n",
            "Epoch 25/25: Train Loss = 0.0151, Test Loss = 0.0076\n",
            "Epoch 5/25: Train Loss = 0.2238, Test Loss = 0.1463\n",
            "Epoch 10/25: Train Loss = 0.1962, Test Loss = 0.1437\n",
            "Epoch 15/25: Train Loss = 0.1844, Test Loss = 0.1370\n",
            "Epoch 20/25: Train Loss = 0.1745, Test Loss = 0.1384\n",
            "Epoch 25/25: Train Loss = 0.1733, Test Loss = 0.1329\n",
            "Epoch 5/25: Train Loss = 0.0770, Test Loss = 0.0751\n",
            "Epoch 10/25: Train Loss = 0.0729, Test Loss = 0.0744\n",
            "Epoch 15/25: Train Loss = 0.0706, Test Loss = 0.0719\n",
            "Epoch 20/25: Train Loss = 0.0683, Test Loss = 0.0689\n",
            "Epoch 25/25: Train Loss = 0.0664, Test Loss = 0.0666\n"
          ]
        }
      ],
      "source": [
        "for (city_id, train_loader, test_loader) in zip(city_ids, dataloaders_train, dataloaders_test):\n",
        "    # Initialize a new model for each city\n",
        "    \n",
        "    model = LSTMModel(input_size, hidden_layer_size,\n",
        "                      output_size, num_layers, dropout).to(device)\n",
        "    optimizer = torch.optim.Adam(model.parameters(), lr=0.001, weight_decay=0.0001)    \n",
        "    \n",
        "    model, train_losses, test_losses = model_fit(model, loss_function, optimizer, train_loader, test_loader, num_epochs=25, checkpoint=5, patience=10)\n",
        "\n",
        "    all_train_losses.append(train_losses)\n",
        "    all_test_losses.append(test_losses)\n",
        "\n",
        "    X_last = X_list_final[city_ids.index(city_id)]  \n",
        "    current_sequence_tensor = torch.tensor(X_last).unsqueeze(0).float().to(device)\n",
        "\n",
        "    # Make prediction\n",
        "    with torch.no_grad():\n",
        "        model.eval()\n",
        "        # Ensure the tensor is of type torch.float32\n",
        "        current_sequence_tensor = current_sequence_tensor.float()\n",
        "        prediction = model(current_sequence_tensor)\n",
        "\n",
        "    for i, predicted_temp in enumerate(prediction.squeeze().tolist()):\n",
        "        prediction_date = start_date + timedelta(days=i)\n",
        "        predictions_list.append({\n",
        "            \"city_id\": city_id,\n",
        "            \"date\": prediction_date.strftime(\"%d/%m/%Y\"),\n",
        "            \"temp\": predicted_temp\n",
        "        })\n",
        "\n",
        "# predictions_df now contains the next day's temperature prediction for each city"
      ]
    },
    {
      "cell_type": "code",
      "execution_count": 25,
      "metadata": {},
      "outputs": [
        {
          "data": {
            "image/png": "[encoded data removed]",
            "text/plain": [
              "<Figure size 2000x300 with 6 Axes>"
            ]
          },
          "metadata": {},
          "output_type": "display_data"
        }
      ],
      "source": [
        "from math import ceil\n",
        "num_cities = 5\n",
        "num_rows = ceil(num_cities / 6)\n",
        "fig, axs = plt.subplots(num_rows, 6, figsize=(20, num_rows * 3))\n",
        "\n",
        "for i, ax in enumerate(axs.flat):\n",
        "    if i < num_cities:\n",
        "        ax.plot(all_train_losses[i], label='Train Loss')\n",
        "        ax.plot(all_test_losses[i], label='Test Loss')\n",
        "        ax.set_title(f'City {city_ids[i]}')\n",
        "        ax.legend()\n",
        "    else:\n",
        "        ax.axis('off')\n",
        "\n",
        "plt.tight_layout()\n",
        "plt.show()"
      ]
    },
    {
      "cell_type": "code",
      "execution_count": 26,
      "metadata": {},
      "outputs": [
        {
          "name": "stdout",
          "output_type": "stream",
          "text": [
            "    submission_ID city_id        date  avg_temp_c\n",
            "0               1    C001  01/01/2019       -0.93\n",
            "1               2    C001  02/01/2019       -0.94\n",
            "2               3    C001  03/01/2019       -0.96\n",
            "3               4    C001  04/01/2019       -0.96\n",
            "4               5    C001  05/01/2019       -0.97\n",
            "5               6    C001  06/01/2019       -0.98\n",
            "6               7    C001  07/01/2019       -0.99\n",
            "7               8    C002  01/01/2019       -0.35\n",
            "8               9    C002  02/01/2019       -0.37\n",
            "9              10    C002  03/01/2019       -0.38\n",
            "10             11    C002  04/01/2019       -0.38\n",
            "11             12    C002  05/01/2019       -0.40\n",
            "12             13    C002  06/01/2019       -0.40\n",
            "13             14    C002  07/01/2019       -0.41\n",
            "14             15    C003  01/01/2019        0.74\n",
            "15             16    C003  02/01/2019        0.74\n",
            "16             17    C003  03/01/2019        0.74\n",
            "17             18    C003  04/01/2019        0.74\n",
            "18             19    C003  05/01/2019        0.74\n",
            "19             20    C003  06/01/2019        0.74\n",
            "20             21    C003  07/01/2019        0.74\n",
            "21             22    C004  01/01/2019       -1.99\n",
            "22             23    C004  02/01/2019       -1.98\n",
            "23             24    C004  03/01/2019       -1.98\n",
            "24             25    C004  04/01/2019       -2.00\n",
            "25             26    C004  05/01/2019       -2.01\n",
            "26             27    C004  06/01/2019       -1.99\n",
            "27             28    C004  07/01/2019       -2.01\n",
            "28             29    C005  01/01/2019        0.51\n",
            "29             30    C005  02/01/2019        0.52\n",
            "30             31    C005  03/01/2019        0.52\n",
            "31             32    C005  04/01/2019        0.53\n",
            "32             33    C005  05/01/2019        0.54\n",
            "33             34    C005  06/01/2019        0.54\n",
            "34             35    C005  07/01/2019        0.55\n"
          ]
        }
      ],
      "source": [
        "predictions_df = pd.DataFrame(predictions_list)\n",
        "predictions_df.columns = ['city_id', 'date', 'avg_temp_c']\n",
        "predictions_df['avg_temp_c'] = predictions_df['avg_temp_c'].round(2)\n",
        "predictions_df['submission_ID'] = range(1, len(predictions_df) + 1)\n",
        "predictions_df = predictions_df[['submission_ID', 'city_id', 'date', 'avg_temp_c']]\n",
        "\n",
        "print(predictions_df)"
      ]
    },
    {
      "cell_type": "code",
      "execution_count": 27,
      "metadata": {},
      "outputs": [],
      "source": [
        "predictions_df.to_csv('./../derived_data_csv/output.csv', index=False)"
      ]
    },
    {
      "cell_type": "code",
      "execution_count": 28,
      "metadata": {},
      "outputs": [],
      "source": [
        "# Assuming predictions_df is a DataFrame with a column 'avg_temp_c' for the standardized predictions\n",
        "# Use the saved mean and standard deviation to scale back to original values\n",
        "predictions_df['avg_temp_c'] = (\n",
        "    predictions_df['avg_temp_c'] * avg_temp_c_std) + avg_temp_c_mean\n",
        "predictions_df.to_csv('./../derived_data_csv/output_scaled_back.csv', index=False)"
      ]
    }
  ],
  "metadata": {
    "accelerator": "GPU",
    "colab": {
      "gpuType": "T4",
      "provenance": []
    },
    "kernelspec": {
      "display_name": "Python 3",
      "name": "python3"
    },
    "language_info": {
      "codemirror_mode": {
        "name": "ipython",
        "version": 3
      },
      "file_extension": ".py",
      "mimetype": "text/x-python",
      "name": "python",
      "nbconvert_exporter": "python",
      "pygments_lexer": "ipython3",
      "version": "3.12.1"
    }
  },
  "nbformat": 4,
  "nbformat_minor": 0
}
